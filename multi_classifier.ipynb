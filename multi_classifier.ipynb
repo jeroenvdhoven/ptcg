{
 "cells": [
  {
   "cell_type": "code",
   "execution_count": 1,
   "metadata": {},
   "outputs": [
    {
     "name": "stdout",
     "output_type": "stream",
     "text": [
      "WARNING:tensorflow:From /Users/jvandenhoven/miniconda3/envs/py3.7/lib/python3.7/site-packages/tensorflow_gan/python/estimator/tpu_gan_estimator.py:42: The name tf.estimator.tpu.TPUEstimator is deprecated. Please use tf.compat.v1.estimator.tpu.TPUEstimator instead.\n",
      "\n"
     ]
    }
   ],
   "source": [
    "import tensorflow as tf\n",
    "from tensorflow import keras\n",
    "import pandas as pd\n",
    "import numpy as np\n",
    "import gc\n",
    "import matplotlib.pyplot as plt\n",
    "from tensorflow_gan.python.losses.losses_impl import wasserstein_generator_loss, wasserstein_discriminator_loss"
   ]
  },
  {
   "cell_type": "code",
   "execution_count": 2,
   "metadata": {},
   "outputs": [],
   "source": [
    "df = pd.read_csv(\"data/metadata.csv\")"
   ]
  },
  {
   "cell_type": "code",
   "execution_count": 3,
   "metadata": {
    "scrolled": false
   },
   "outputs": [
    {
     "data": {
      "text/html": [
       "<div>\n",
       "<style scoped>\n",
       "    .dataframe tbody tr th:only-of-type {\n",
       "        vertical-align: middle;\n",
       "    }\n",
       "\n",
       "    .dataframe tbody tr th {\n",
       "        vertical-align: top;\n",
       "    }\n",
       "\n",
       "    .dataframe thead th {\n",
       "        text-align: right;\n",
       "    }\n",
       "</style>\n",
       "<table border=\"1\" class=\"dataframe\">\n",
       "  <thead>\n",
       "    <tr style=\"text-align: right;\">\n",
       "      <th></th>\n",
       "      <th>card_file_name</th>\n",
       "      <th>id</th>\n",
       "      <th>link</th>\n",
       "      <th>name</th>\n",
       "      <th>rarity</th>\n",
       "      <th>setname</th>\n",
       "      <th>type</th>\n",
       "    </tr>\n",
       "  </thead>\n",
       "  <tbody>\n",
       "    <tr>\n",
       "      <th>0</th>\n",
       "      <td>data/pictures/Base Set/Alakazam_(Base_Set_1)</td>\n",
       "      <td>1/102</td>\n",
       "      <td>https://bulbapedia.bulbagarden.net/wiki/Alakaz...</td>\n",
       "      <td>Alakazam</td>\n",
       "      <td>Rare Holo</td>\n",
       "      <td>Base Set</td>\n",
       "      <td>Psychic</td>\n",
       "    </tr>\n",
       "    <tr>\n",
       "      <th>1</th>\n",
       "      <td>data/pictures/Base Set/Blastoise_(Base_Set_2)</td>\n",
       "      <td>2/102</td>\n",
       "      <td>https://bulbapedia.bulbagarden.net/wiki/Blasto...</td>\n",
       "      <td>Blastoise</td>\n",
       "      <td>Rare Holo</td>\n",
       "      <td>Base Set</td>\n",
       "      <td>Water</td>\n",
       "    </tr>\n",
       "    <tr>\n",
       "      <th>2</th>\n",
       "      <td>data/pictures/Base Set/Chansey_(Base_Set_3)</td>\n",
       "      <td>3/102</td>\n",
       "      <td>https://bulbapedia.bulbagarden.net/wiki/Chanse...</td>\n",
       "      <td>Chansey</td>\n",
       "      <td>Rare Holo</td>\n",
       "      <td>Base Set</td>\n",
       "      <td>Colorless</td>\n",
       "    </tr>\n",
       "    <tr>\n",
       "      <th>3</th>\n",
       "      <td>data/pictures/Base Set/Charizard_(Base_Set_4)</td>\n",
       "      <td>4/102</td>\n",
       "      <td>https://bulbapedia.bulbagarden.net/wiki/Chariz...</td>\n",
       "      <td>Charizard</td>\n",
       "      <td>Rare Holo</td>\n",
       "      <td>Base Set</td>\n",
       "      <td>Fire</td>\n",
       "    </tr>\n",
       "    <tr>\n",
       "      <th>4</th>\n",
       "      <td>data/pictures/Base Set/Clefairy_(Base_Set_5)</td>\n",
       "      <td>5/102</td>\n",
       "      <td>https://bulbapedia.bulbagarden.net/wiki/Clefai...</td>\n",
       "      <td>Clefairy</td>\n",
       "      <td>Rare Holo</td>\n",
       "      <td>Base Set</td>\n",
       "      <td>Colorless</td>\n",
       "    </tr>\n",
       "    <tr>\n",
       "      <th>...</th>\n",
       "      <td>...</td>\n",
       "      <td>...</td>\n",
       "      <td>...</td>\n",
       "      <td>...</td>\n",
       "      <td>...</td>\n",
       "      <td>...</td>\n",
       "      <td>...</td>\n",
       "    </tr>\n",
       "    <tr>\n",
       "      <th>9937</th>\n",
       "      <td>data/pictures/Pokémon Rumble/Lucario_(Pok%C3%A...</td>\n",
       "      <td>12/16</td>\n",
       "      <td>https://bulbapedia.bulbagarden.net/wiki/Lucari...</td>\n",
       "      <td>Lucario</td>\n",
       "      <td>Unknown rarity</td>\n",
       "      <td>Pokémon Rumble</td>\n",
       "      <td>Fighting</td>\n",
       "    </tr>\n",
       "    <tr>\n",
       "      <th>9938</th>\n",
       "      <td>data/pictures/Pokémon Rumble/Skuntank_(Pok%C3%...</td>\n",
       "      <td>13/16</td>\n",
       "      <td>https://bulbapedia.bulbagarden.net/wiki/Skunta...</td>\n",
       "      <td>Skuntank</td>\n",
       "      <td>Unknown rarity</td>\n",
       "      <td>Pokémon Rumble</td>\n",
       "      <td>Darkness</td>\n",
       "    </tr>\n",
       "    <tr>\n",
       "      <th>9939</th>\n",
       "      <td>data/pictures/Pokémon Rumble/Bastiodon_(Pok%C3...</td>\n",
       "      <td>14/16</td>\n",
       "      <td>https://bulbapedia.bulbagarden.net/wiki/Bastio...</td>\n",
       "      <td>Bastiodon</td>\n",
       "      <td>Unknown rarity</td>\n",
       "      <td>Pokémon Rumble</td>\n",
       "      <td>Metal</td>\n",
       "    </tr>\n",
       "    <tr>\n",
       "      <th>9940</th>\n",
       "      <td>data/pictures/Pokémon Rumble/Rattata_(Pok%C3%A...</td>\n",
       "      <td>15/16</td>\n",
       "      <td>https://bulbapedia.bulbagarden.net/wiki/Rattat...</td>\n",
       "      <td>Rattata</td>\n",
       "      <td>Unknown rarity</td>\n",
       "      <td>Pokémon Rumble</td>\n",
       "      <td>Colorless</td>\n",
       "    </tr>\n",
       "    <tr>\n",
       "      <th>9941</th>\n",
       "      <td>data/pictures/Pokémon Rumble/Bibarel_(Pok%C3%A...</td>\n",
       "      <td>16/16</td>\n",
       "      <td>https://bulbapedia.bulbagarden.net/wiki/Bibare...</td>\n",
       "      <td>Bibarel</td>\n",
       "      <td>Unknown rarity</td>\n",
       "      <td>Pokémon Rumble</td>\n",
       "      <td>Colorless</td>\n",
       "    </tr>\n",
       "  </tbody>\n",
       "</table>\n",
       "<p>9942 rows × 7 columns</p>\n",
       "</div>"
      ],
      "text/plain": [
       "                                         card_file_name     id  \\\n",
       "0          data/pictures/Base Set/Alakazam_(Base_Set_1)  1/102   \n",
       "1         data/pictures/Base Set/Blastoise_(Base_Set_2)  2/102   \n",
       "2           data/pictures/Base Set/Chansey_(Base_Set_3)  3/102   \n",
       "3         data/pictures/Base Set/Charizard_(Base_Set_4)  4/102   \n",
       "4          data/pictures/Base Set/Clefairy_(Base_Set_5)  5/102   \n",
       "...                                                 ...    ...   \n",
       "9937  data/pictures/Pokémon Rumble/Lucario_(Pok%C3%A...  12/16   \n",
       "9938  data/pictures/Pokémon Rumble/Skuntank_(Pok%C3%...  13/16   \n",
       "9939  data/pictures/Pokémon Rumble/Bastiodon_(Pok%C3...  14/16   \n",
       "9940  data/pictures/Pokémon Rumble/Rattata_(Pok%C3%A...  15/16   \n",
       "9941  data/pictures/Pokémon Rumble/Bibarel_(Pok%C3%A...  16/16   \n",
       "\n",
       "                                                   link       name  \\\n",
       "0     https://bulbapedia.bulbagarden.net/wiki/Alakaz...   Alakazam   \n",
       "1     https://bulbapedia.bulbagarden.net/wiki/Blasto...  Blastoise   \n",
       "2     https://bulbapedia.bulbagarden.net/wiki/Chanse...    Chansey   \n",
       "3     https://bulbapedia.bulbagarden.net/wiki/Chariz...  Charizard   \n",
       "4     https://bulbapedia.bulbagarden.net/wiki/Clefai...   Clefairy   \n",
       "...                                                 ...        ...   \n",
       "9937  https://bulbapedia.bulbagarden.net/wiki/Lucari...    Lucario   \n",
       "9938  https://bulbapedia.bulbagarden.net/wiki/Skunta...   Skuntank   \n",
       "9939  https://bulbapedia.bulbagarden.net/wiki/Bastio...  Bastiodon   \n",
       "9940  https://bulbapedia.bulbagarden.net/wiki/Rattat...    Rattata   \n",
       "9941  https://bulbapedia.bulbagarden.net/wiki/Bibare...    Bibarel   \n",
       "\n",
       "              rarity         setname       type  \n",
       "0          Rare Holo        Base Set    Psychic  \n",
       "1          Rare Holo        Base Set      Water  \n",
       "2          Rare Holo        Base Set  Colorless  \n",
       "3          Rare Holo        Base Set       Fire  \n",
       "4          Rare Holo        Base Set  Colorless  \n",
       "...              ...             ...        ...  \n",
       "9937  Unknown rarity  Pokémon Rumble   Fighting  \n",
       "9938  Unknown rarity  Pokémon Rumble   Darkness  \n",
       "9939  Unknown rarity  Pokémon Rumble      Metal  \n",
       "9940  Unknown rarity  Pokémon Rumble  Colorless  \n",
       "9941  Unknown rarity  Pokémon Rumble  Colorless  \n",
       "\n",
       "[9942 rows x 7 columns]"
      ]
     },
     "execution_count": 3,
     "metadata": {},
     "output_type": "execute_result"
    }
   ],
   "source": [
    "df"
   ]
  },
  {
   "cell_type": "markdown",
   "metadata": {},
   "source": [
    "# Drop a couple of bad records"
   ]
  },
  {
   "cell_type": "code",
   "execution_count": 4,
   "metadata": {},
   "outputs": [],
   "source": [
    "df = df[~df[\"card_file_name\"].isin([\n",
    "    \"data/pictures/Mysterious Treasures/Honchkrow_(Mysterious_Treasures_10)\",\n",
    "    \"data/pictures/Unified Minds/Umbreon_%26_Darkrai-GX_(Unified_Minds_125)\", # missing on website\n",
    "    \"data/pictures/Base Set/Charizard_(Base_Set_4)\", # special version of normal website\n",
    "    \"data/pictures/Stormfront/Charizard_(Stormfront_103)\", # special version of normal website\n",
    "])]"
   ]
  },
  {
   "cell_type": "markdown",
   "metadata": {},
   "source": [
    "filter to Pokemon types"
   ]
  },
  {
   "cell_type": "code",
   "execution_count": 5,
   "metadata": {},
   "outputs": [],
   "source": [
    "# df.type.value_counts()\n",
    "filter_to_pokemon_types = False\n",
    "filter_to_simple_rarities = False\n",
    "\n",
    "if filter_to_pokemon_types:\n",
    "    df = df[df[\"type\"].isin([\n",
    "        \"Water\",\n",
    "        \"Grass\",\n",
    "        \"Colorless\",\n",
    "        \"Psychic\",\n",
    "        \"Fighting\",\n",
    "        \"Fire\",\n",
    "        \"Lightning\",\n",
    "        \"Darkness\",\n",
    "        \"Metal\",\n",
    "        \"Dragon\",\n",
    "        \"Fairy\",\n",
    "    ])]\n",
    "\n",
    "if filter_to_simple_rarities:\n",
    "    df = df[df[\"rarity\"].isin([\n",
    "        \"Common\",\n",
    "        \"Uncommon\",\n",
    "        \"Rare\",\n",
    "        \"Rare Holo\",\n",
    "        \"Rare Holo ex\",\n",
    "    ])]\n"
   ]
  },
  {
   "cell_type": "markdown",
   "metadata": {},
   "source": [
    "# Parameters"
   ]
  },
  {
   "cell_type": "code",
   "execution_count": 25,
   "metadata": {},
   "outputs": [],
   "source": [
    "n_epochs = 200\n",
    "n_random_inputs_per_training = 800\n",
    "n_real_per_training = 4000\n",
    "batch_size = 100\n",
    "\n",
    "n_generator_input = 100\n",
    "n_generator_dense = 200\n",
    "\n",
    "use_greyscale = False\n",
    "\n",
    "columns_as_input = [\n",
    "#     \"rarity\",\n",
    "    \"type\",\n",
    "#     \"setname\",\n",
    "]"
   ]
  },
  {
   "cell_type": "markdown",
   "metadata": {},
   "source": [
    "# Create dataset"
   ]
  },
  {
   "cell_type": "code",
   "execution_count": 7,
   "metadata": {},
   "outputs": [],
   "source": [
    "# Function to load and preprocess each image\n",
    "def parse_image_file(\n",
    "    filename,\n",
    "    label = None,\n",
    "    crop=False,\n",
    "    to_greyscale=False,\n",
    "):\n",
    "    img = tf.io.read_file(filename)\n",
    "    img = tf.cast(tf.image.decode_jpeg(img, channels=3), tf.float32) / 255.0\n",
    "    \n",
    "#     if img.shape[0] < 50:\n",
    "#         print(f\"Error with image `{filename}`: shape found was small: {img.shape}\")\n",
    "    img = tf.image.resize_with_crop_or_pad(img, 260, 180)\n",
    "    \n",
    "    # Some images have an extra alpha channel. Remove that.\n",
    "    img = img[:, :, :3]\n",
    "    \n",
    "    if crop:\n",
    "        img = tf.image.crop_to_bounding_box(\n",
    "            img, \n",
    "            offset_height = 35,\n",
    "            offset_width = 20,\n",
    "            target_height = 100,\n",
    "            target_width = 140,\n",
    "        )\n",
    "        \n",
    "    if to_greyscale:\n",
    "        img = tf.image.rgb_to_grayscale(img)\n",
    "        img = tf.expand_dims(img, -1)\n",
    "    \n",
    "    if label is None: return img\n",
    "    else: return img, label"
   ]
  },
  {
   "cell_type": "code",
   "execution_count": 8,
   "metadata": {},
   "outputs": [],
   "source": [
    "n_records = df.shape[0]"
   ]
  },
  {
   "cell_type": "code",
   "execution_count": 9,
   "metadata": {},
   "outputs": [
    {
     "data": {
      "text/plain": [
       "16"
      ]
     },
     "execution_count": 9,
     "metadata": {},
     "output_type": "execute_result"
    }
   ],
   "source": [
    "images = tf.constant(df[\"card_file_name\"].values)\n",
    "x = tf.stack([parse_image_file(img, crop=True, to_greyscale=use_greyscale) for img in images], axis=0)\n",
    "gc.collect()"
   ]
  },
  {
   "cell_type": "code",
   "execution_count": 10,
   "metadata": {},
   "outputs": [
    {
     "data": {
      "text/plain": [
       "<matplotlib.image.AxesImage at 0x1b04a29d0>"
      ]
     },
     "execution_count": 10,
     "metadata": {},
     "output_type": "execute_result"
    },
    {
     "data": {
      "image/png": "[encoded data removed]",
      "text/plain": [
       "<Figure size 432x288 with 1 Axes>"
      ]
     },
     "metadata": {
      "needs_background": "light"
     },
     "output_type": "display_data"
    }
   ],
   "source": [
    "plt.imshow(tf.squeeze(x[0]), cmap='gray')"
   ]
  },
  {
   "cell_type": "markdown",
   "metadata": {},
   "source": [
    "### Make the class dataset"
   ]
  },
  {
   "cell_type": "code",
   "execution_count": 26,
   "metadata": {},
   "outputs": [],
   "source": [
    "def label_converter(label):\n",
    "    return tf.math.argmax(label, axis=-1)\n",
    "\n",
    "def make_conversion_function(classes):\n",
    "    return lambda idx: convert_column(idx, classes)\n",
    "\n",
    "def convert_column(idx, classes):\n",
    "    return tf.gather(classes, idx)\n",
    "    \n",
    "def target_columns_to_tf(column_names):\n",
    "    y = {}\n",
    "    size_per_class = []\n",
    "    conversion_functions = {}\n",
    "    \n",
    "    for colname in column_names:\n",
    "        col = df[colname]\n",
    "        classnames, indices = np.unique(col.values, return_inverse=True)\n",
    "        classnames = np.append(classnames, \"Fake\")\n",
    "        n_classes = len(classnames)\n",
    "        size_per_class.append(n_classes)\n",
    "        \n",
    "        conversion_functions[colname] = make_conversion_function(classnames)\n",
    "        y[colname] = keras.utils.to_categorical(indices, n_classes)\n",
    "\n",
    "    return (\n",
    "        y,\n",
    "        size_per_class,\n",
    "        conversion_functions,\n",
    "    )"
   ]
  },
  {
   "cell_type": "code",
   "execution_count": 27,
   "metadata": {},
   "outputs": [],
   "source": [
    "y, size_per_class, conversion_functions = target_columns_to_tf(columns_as_input)\n",
    "\n",
    "def convert_target_matrix_to_label(pred, colname):\n",
    "    current_start_index = 0\n",
    "    pred = pred[colname]\n",
    "    \n",
    "    label_indices = label_converter(pred)\n",
    "    return conversion_functions[colname](label_indices)\n"
   ]
  },
  {
   "cell_type": "code",
   "execution_count": 28,
   "metadata": {},
   "outputs": [
    {
     "data": {
      "text/plain": [
       "<tf.Tensor: shape=(9938,), dtype=string, numpy=\n",
       "array([b'Psychic', b'Water', b'Colorless', ..., b'Metal', b'Colorless',\n",
       "       b'Colorless'], dtype=object)>"
      ]
     },
     "execution_count": 28,
     "metadata": {},
     "output_type": "execute_result"
    }
   ],
   "source": [
    "convert_target_matrix_to_label(y, columns_as_input[0])"
   ]
  },
  {
   "cell_type": "markdown",
   "metadata": {},
   "source": [
    "# Split dataset"
   ]
  },
  {
   "cell_type": "code",
   "execution_count": 29,
   "metadata": {},
   "outputs": [],
   "source": [
    "all_data = tf.data.Dataset.from_tensor_slices(\n",
    "    (x, y)\n",
    ").shuffle(10000)"
   ]
  },
  {
   "cell_type": "code",
   "execution_count": 30,
   "metadata": {},
   "outputs": [],
   "source": [
    "train_frac = .7\n",
    "batch_size = 50\n",
    "\n",
    "train = all_data.take(int(train_frac * n_records)).batch(batch_size)\n",
    "remaining_data = all_data.skip(int(train_frac * n_records))\n",
    "\n",
    "validate = remaining_data.take(int(.5 * (1 - train_frac) * n_records)).batch(batch_size)\n",
    "test = remaining_data.skip(int(.5 * (1 - train_frac) * n_records)).batch(batch_size)"
   ]
  },
  {
   "cell_type": "markdown",
   "metadata": {},
   "source": [
    "# Model"
   ]
  },
  {
   "cell_type": "code",
   "execution_count": 37,
   "metadata": {},
   "outputs": [],
   "source": [
    "inputs = keras.layers.Input(shape=x[0].shape)\n",
    "x_1 = keras.layers.Conv2D(filters=20, kernel_size=5, strides=2)(inputs)\n",
    "x_1 = keras.layers.MaxPool2D()(x_1)\n",
    "x_1 = keras.layers.Conv2D(filters=20, kernel_size=5, strides=2)(x_1)\n",
    "x_1 = keras.layers.MaxPool2D()(x_1)\n",
    "x_1 = keras.layers.Flatten()(x_1)\n",
    "x_1 = keras.layers.Dense(units=50)(x_1)\n",
    "x_1 = keras.layers.LeakyReLU()(x_1)\n",
    "x_1 = keras.layers.Dense(units=50)(x_1)\n",
    "x_1 = keras.layers.LeakyReLU()(x_1)\n",
    "    \n",
    "outputs = {\n",
    "    colname: keras.layers.Dense(units=size, activation=\"softmax\", name=colname)(x_1) \n",
    "    for colname, size in zip(columns_as_input, size_per_class)\n",
    "}\n",
    "\n",
    "model = keras.Model(inputs, outputs, name=\"multi-classifier\")"
   ]
  },
  {
   "cell_type": "code",
   "execution_count": 38,
   "metadata": {},
   "outputs": [
    {
     "name": "stdout",
     "output_type": "stream",
     "text": [
      "Model: \"multi-classifier\"\n",
      "_________________________________________________________________\n",
      "Layer (type)                 Output Shape              Param #   \n",
      "=================================================================\n",
      "input_6 (InputLayer)         [(None, 100, 140, 3)]     0         \n",
      "_________________________________________________________________\n",
      "conv2d_8 (Conv2D)            (None, 48, 68, 20)        1520      \n",
      "_________________________________________________________________\n",
      "max_pooling2d_8 (MaxPooling2 (None, 24, 34, 20)        0         \n",
      "_________________________________________________________________\n",
      "conv2d_9 (Conv2D)            (None, 10, 15, 20)        10020     \n",
      "_________________________________________________________________\n",
      "max_pooling2d_9 (MaxPooling2 (None, 5, 7, 20)          0         \n",
      "_________________________________________________________________\n",
      "flatten_4 (Flatten)          (None, 700)               0         \n",
      "_________________________________________________________________\n",
      "dense_8 (Dense)              (None, 50)                35050     \n",
      "_________________________________________________________________\n",
      "leaky_re_lu_8 (LeakyReLU)    (None, 50)                0         \n",
      "_________________________________________________________________\n",
      "dense_9 (Dense)              (None, 50)                2550      \n",
      "_________________________________________________________________\n",
      "leaky_re_lu_9 (LeakyReLU)    (None, 50)                0         \n",
      "_________________________________________________________________\n",
      "type (Dense)                 (None, 20)                1020      \n",
      "=================================================================\n",
      "Total params: 50,160\n",
      "Trainable params: 50,160\n",
      "Non-trainable params: 0\n",
      "_________________________________________________________________\n"
     ]
    }
   ],
   "source": [
    "model.compile(\n",
    "    optimizer=keras.optimizers.Nadam(learning_rate=.001),\n",
    "    loss=keras.losses.CategoricalCrossentropy(),\n",
    "    metrics=[keras.metrics.categorical_accuracy]\n",
    ")\n",
    "model.summary()"
   ]
  },
  {
   "cell_type": "markdown",
   "metadata": {},
   "source": [
    "# Training"
   ]
  },
  {
   "cell_type": "code",
   "execution_count": 39,
   "metadata": {},
   "outputs": [
    {
     "name": "stdout",
     "output_type": "stream",
     "text": [
      "Train for 140 steps, validate for 30 steps\n",
      "Epoch 1/22\n",
      "140/140 [==============================] - 10s 74ms/step - loss: 2.4886 - categorical_accuracy: 0.1922 - val_loss: 2.4977 - val_categorical_accuracy: 0.1651\n",
      "Epoch 2/22\n",
      "140/140 [==============================] - 10s 69ms/step - loss: 2.2926 - categorical_accuracy: 0.2481 - val_loss: 2.5669 - val_categorical_accuracy: 0.1584\n",
      "Epoch 3/22\n",
      "140/140 [==============================] - 10s 70ms/step - loss: 2.0945 - categorical_accuracy: 0.3035 - val_loss: 2.4031 - val_categorical_accuracy: 0.2396\n",
      "Epoch 4/22\n",
      "140/140 [==============================] - 10s 69ms/step - loss: 1.9753 - categorical_accuracy: 0.3427 - val_loss: 2.1180 - val_categorical_accuracy: 0.2564\n",
      "Epoch 5/22\n",
      "140/140 [==============================] - 10s 69ms/step - loss: 1.8939 - categorical_accuracy: 0.3689 - val_loss: 1.8893 - val_categorical_accuracy: 0.3604\n",
      "Epoch 6/22\n",
      "140/140 [==============================] - 10s 70ms/step - loss: 1.7816 - categorical_accuracy: 0.4061 - val_loss: 1.8082 - val_categorical_accuracy: 0.3879\n",
      "Epoch 7/22\n",
      "140/140 [==============================] - 10s 69ms/step - loss: 1.7013 - categorical_accuracy: 0.4313 - val_loss: 1.7812 - val_categorical_accuracy: 0.4047\n",
      "Epoch 8/22\n",
      "140/140 [==============================] - 10s 68ms/step - loss: 1.6145 - categorical_accuracy: 0.4649 - val_loss: 1.6732 - val_categorical_accuracy: 0.4235\n",
      "Epoch 9/22\n",
      "140/140 [==============================] - 10s 69ms/step - loss: 1.5369 - categorical_accuracy: 0.4889 - val_loss: 1.5490 - val_categorical_accuracy: 0.4826\n",
      "Epoch 10/22\n",
      "140/140 [==============================] - 10s 71ms/step - loss: 1.4652 - categorical_accuracy: 0.5124 - val_loss: 1.4522 - val_categorical_accuracy: 0.5114\n",
      "Epoch 11/22\n",
      "140/140 [==============================] - 10s 68ms/step - loss: 1.3854 - categorical_accuracy: 0.5372 - val_loss: 1.3373 - val_categorical_accuracy: 0.5517\n",
      "Epoch 12/22\n",
      "140/140 [==============================] - 9s 67ms/step - loss: 1.3369 - categorical_accuracy: 0.5564 - val_loss: 1.4064 - val_categorical_accuracy: 0.5174\n",
      "Epoch 13/22\n",
      "140/140 [==============================] - 9s 67ms/step - loss: 1.2477 - categorical_accuracy: 0.5853 - val_loss: 1.1629 - val_categorical_accuracy: 0.6161\n",
      "Epoch 14/22\n",
      "140/140 [==============================] - 9s 66ms/step - loss: 1.1652 - categorical_accuracy: 0.6180 - val_loss: 1.1818 - val_categorical_accuracy: 0.5993\n",
      "Epoch 15/22\n",
      "140/140 [==============================] - 9s 67ms/step - loss: 1.1201 - categorical_accuracy: 0.6271 - val_loss: 1.2112 - val_categorical_accuracy: 0.5832\n",
      "Epoch 16/22\n",
      "140/140 [==============================] - 9s 66ms/step - loss: 1.0526 - categorical_accuracy: 0.6577 - val_loss: 1.3913 - val_categorical_accuracy: 0.5349\n",
      "Epoch 17/22\n",
      "140/140 [==============================] - 9s 66ms/step - loss: 0.9980 - categorical_accuracy: 0.6686 - val_loss: 0.9742 - val_categorical_accuracy: 0.6658\n",
      "Epoch 18/22\n",
      "140/140 [==============================] - 9s 67ms/step - loss: 0.9226 - categorical_accuracy: 0.6970 - val_loss: 0.8995 - val_categorical_accuracy: 0.7000\n",
      "Epoch 19/22\n",
      "140/140 [==============================] - 9s 67ms/step - loss: 0.8588 - categorical_accuracy: 0.7204 - val_loss: 0.7728 - val_categorical_accuracy: 0.7550\n",
      "Epoch 20/22\n",
      "140/140 [==============================] - 9s 67ms/step - loss: 0.7965 - categorical_accuracy: 0.7447 - val_loss: 0.9253 - val_categorical_accuracy: 0.6953\n",
      "Epoch 21/22\n",
      "140/140 [==============================] - 9s 66ms/step - loss: 0.7486 - categorical_accuracy: 0.7624 - val_loss: 0.8846 - val_categorical_accuracy: 0.7013\n",
      "Epoch 22/22\n",
      "140/140 [==============================] - 9s 67ms/step - loss: 0.6996 - categorical_accuracy: 0.7739 - val_loss: 0.8699 - val_categorical_accuracy: 0.7040\n"
     ]
    }
   ],
   "source": [
    "gc.collect()\n",
    "try:\n",
    "    model.fit(train, validation_data=validate, epochs=22, shuffle=True)\n",
    "finally:\n",
    "    gc.collect()"
   ]
  },
  {
   "cell_type": "markdown",
   "metadata": {},
   "source": [
    "# Test a couple of records"
   ]
  },
  {
   "cell_type": "code",
   "execution_count": 45,
   "metadata": {},
   "outputs": [],
   "source": [
    "def plot_and_predict(img):\n",
    "    assert img.shape[0] == 1, \"Please only provide a single image at a time\"\n",
    "    \n",
    "    prediction = model.predict(img)\n",
    "    labels = {k: convert_target_matrix_to_label(prediction, k) for k in prediction}\n",
    "    \n",
    "    plt.imshow(img[0])\n",
    "    plt.title(labels)\n",
    "    plt.title(class_name)\n",
    "    "
   ]
  },
  {
   "cell_type": "code",
   "execution_count": 46,
   "metadata": {},
   "outputs": [
    {
     "ename": "IndexError",
     "evalue": "arrays used as indices must be of integer (or boolean) type",
     "output_type": "error",
     "traceback": [
      "\u001b[0;31m---------------------------------------------------------------------------\u001b[0m",
      "\u001b[0;31mIndexError\u001b[0m                                Traceback (most recent call last)",
      "\u001b[0;32m<ipython-input-46-cea7fcce2e3c>\u001b[0m in \u001b[0;36m<module>\u001b[0;34m\u001b[0m\n\u001b[1;32m      1\u001b[0m \u001b[0;32mfor\u001b[0m \u001b[0mvis_x\u001b[0m\u001b[0;34m,\u001b[0m \u001b[0m_\u001b[0m \u001b[0;32min\u001b[0m \u001b[0mtrain\u001b[0m\u001b[0;34m.\u001b[0m\u001b[0mtake\u001b[0m\u001b[0;34m(\u001b[0m\u001b[0;36m1\u001b[0m\u001b[0;34m)\u001b[0m\u001b[0;34m:\u001b[0m\u001b[0;34m\u001b[0m\u001b[0;34m\u001b[0m\u001b[0m\n\u001b[1;32m      2\u001b[0m     \u001b[0;32mfor\u001b[0m \u001b[0mi\u001b[0m \u001b[0;32min\u001b[0m \u001b[0mrange\u001b[0m\u001b[0;34m(\u001b[0m\u001b[0mvis_x\u001b[0m\u001b[0;34m.\u001b[0m\u001b[0mshape\u001b[0m\u001b[0;34m[\u001b[0m\u001b[0;36m0\u001b[0m\u001b[0;34m]\u001b[0m\u001b[0;34m)\u001b[0m\u001b[0;34m:\u001b[0m\u001b[0;34m\u001b[0m\u001b[0;34m\u001b[0m\u001b[0m\n\u001b[0;32m----> 3\u001b[0;31m         \u001b[0mplot_and_predict\u001b[0m\u001b[0;34m(\u001b[0m\u001b[0mvis_x\u001b[0m\u001b[0;34m[\u001b[0m\u001b[0mi\u001b[0m\u001b[0;34m:\u001b[0m\u001b[0mi\u001b[0m\u001b[0;34m+\u001b[0m\u001b[0;36m1\u001b[0m\u001b[0;34m]\u001b[0m\u001b[0;34m)\u001b[0m\u001b[0;34m\u001b[0m\u001b[0;34m\u001b[0m\u001b[0m\n\u001b[0m\u001b[1;32m      4\u001b[0m         \u001b[0mplt\u001b[0m\u001b[0;34m.\u001b[0m\u001b[0mshow\u001b[0m\u001b[0;34m(\u001b[0m\u001b[0;34m)\u001b[0m\u001b[0;34m\u001b[0m\u001b[0;34m\u001b[0m\u001b[0m\n\u001b[1;32m      5\u001b[0m \u001b[0mgc\u001b[0m\u001b[0;34m.\u001b[0m\u001b[0mcollect\u001b[0m\u001b[0;34m(\u001b[0m\u001b[0;34m)\u001b[0m\u001b[0;34m\u001b[0m\u001b[0;34m\u001b[0m\u001b[0m\n",
      "\u001b[0;32m<ipython-input-45-078c816d9247>\u001b[0m in \u001b[0;36mplot_and_predict\u001b[0;34m(img)\u001b[0m\n\u001b[1;32m      3\u001b[0m \u001b[0;34m\u001b[0m\u001b[0m\n\u001b[1;32m      4\u001b[0m     \u001b[0mprediction\u001b[0m \u001b[0;34m=\u001b[0m \u001b[0mmodel\u001b[0m\u001b[0;34m.\u001b[0m\u001b[0mpredict\u001b[0m\u001b[0;34m(\u001b[0m\u001b[0mimg\u001b[0m\u001b[0;34m)\u001b[0m\u001b[0;34m\u001b[0m\u001b[0;34m\u001b[0m\u001b[0m\n\u001b[0;32m----> 5\u001b[0;31m     \u001b[0mlabels\u001b[0m \u001b[0;34m=\u001b[0m \u001b[0;34m{\u001b[0m\u001b[0mk\u001b[0m\u001b[0;34m:\u001b[0m \u001b[0mconvert_target_matrix_to_label\u001b[0m\u001b[0;34m(\u001b[0m\u001b[0mprediction\u001b[0m\u001b[0;34m,\u001b[0m \u001b[0mk\u001b[0m\u001b[0;34m)\u001b[0m \u001b[0;32mfor\u001b[0m \u001b[0mk\u001b[0m \u001b[0;32min\u001b[0m \u001b[0mprediction\u001b[0m\u001b[0;34m}\u001b[0m\u001b[0;34m\u001b[0m\u001b[0;34m\u001b[0m\u001b[0m\n\u001b[0m\u001b[1;32m      6\u001b[0m \u001b[0;34m\u001b[0m\u001b[0m\n\u001b[1;32m      7\u001b[0m     \u001b[0mplt\u001b[0m\u001b[0;34m.\u001b[0m\u001b[0mimshow\u001b[0m\u001b[0;34m(\u001b[0m\u001b[0mimg\u001b[0m\u001b[0;34m[\u001b[0m\u001b[0;36m0\u001b[0m\u001b[0;34m]\u001b[0m\u001b[0;34m)\u001b[0m\u001b[0;34m\u001b[0m\u001b[0;34m\u001b[0m\u001b[0m\n",
      "\u001b[0;32m<ipython-input-45-078c816d9247>\u001b[0m in \u001b[0;36m<dictcomp>\u001b[0;34m(.0)\u001b[0m\n\u001b[1;32m      3\u001b[0m \u001b[0;34m\u001b[0m\u001b[0m\n\u001b[1;32m      4\u001b[0m     \u001b[0mprediction\u001b[0m \u001b[0;34m=\u001b[0m \u001b[0mmodel\u001b[0m\u001b[0;34m.\u001b[0m\u001b[0mpredict\u001b[0m\u001b[0;34m(\u001b[0m\u001b[0mimg\u001b[0m\u001b[0;34m)\u001b[0m\u001b[0;34m\u001b[0m\u001b[0;34m\u001b[0m\u001b[0m\n\u001b[0;32m----> 5\u001b[0;31m     \u001b[0mlabels\u001b[0m \u001b[0;34m=\u001b[0m \u001b[0;34m{\u001b[0m\u001b[0mk\u001b[0m\u001b[0;34m:\u001b[0m \u001b[0mconvert_target_matrix_to_label\u001b[0m\u001b[0;34m(\u001b[0m\u001b[0mprediction\u001b[0m\u001b[0;34m,\u001b[0m \u001b[0mk\u001b[0m\u001b[0;34m)\u001b[0m \u001b[0;32mfor\u001b[0m \u001b[0mk\u001b[0m \u001b[0;32min\u001b[0m \u001b[0mprediction\u001b[0m\u001b[0;34m}\u001b[0m\u001b[0;34m\u001b[0m\u001b[0;34m\u001b[0m\u001b[0m\n\u001b[0m\u001b[1;32m      6\u001b[0m \u001b[0;34m\u001b[0m\u001b[0m\n\u001b[1;32m      7\u001b[0m     \u001b[0mplt\u001b[0m\u001b[0;34m.\u001b[0m\u001b[0mimshow\u001b[0m\u001b[0;34m(\u001b[0m\u001b[0mimg\u001b[0m\u001b[0;34m[\u001b[0m\u001b[0;36m0\u001b[0m\u001b[0;34m]\u001b[0m\u001b[0;34m)\u001b[0m\u001b[0;34m\u001b[0m\u001b[0;34m\u001b[0m\u001b[0m\n",
      "\u001b[0;32m<ipython-input-27-834675f6cb36>\u001b[0m in \u001b[0;36mconvert_target_matrix_to_label\u001b[0;34m(pred, colname)\u001b[0m\n\u001b[1;32m      3\u001b[0m \u001b[0;32mdef\u001b[0m \u001b[0mconvert_target_matrix_to_label\u001b[0m\u001b[0;34m(\u001b[0m\u001b[0mpred\u001b[0m\u001b[0;34m,\u001b[0m \u001b[0mcolname\u001b[0m\u001b[0;34m)\u001b[0m\u001b[0;34m:\u001b[0m\u001b[0;34m\u001b[0m\u001b[0;34m\u001b[0m\u001b[0m\n\u001b[1;32m      4\u001b[0m     \u001b[0mcurrent_start_index\u001b[0m \u001b[0;34m=\u001b[0m \u001b[0;36m0\u001b[0m\u001b[0;34m\u001b[0m\u001b[0;34m\u001b[0m\u001b[0m\n\u001b[0;32m----> 5\u001b[0;31m     \u001b[0mpred\u001b[0m \u001b[0;34m=\u001b[0m \u001b[0mpred\u001b[0m\u001b[0;34m[\u001b[0m\u001b[0mcolname\u001b[0m\u001b[0;34m]\u001b[0m\u001b[0;34m\u001b[0m\u001b[0;34m\u001b[0m\u001b[0m\n\u001b[0m\u001b[1;32m      6\u001b[0m \u001b[0;34m\u001b[0m\u001b[0m\n\u001b[1;32m      7\u001b[0m     \u001b[0mlabel_indices\u001b[0m \u001b[0;34m=\u001b[0m \u001b[0mlabel_converter\u001b[0m\u001b[0;34m(\u001b[0m\u001b[0mpred\u001b[0m\u001b[0;34m)\u001b[0m\u001b[0;34m\u001b[0m\u001b[0;34m\u001b[0m\u001b[0m\n",
      "\u001b[0;31mIndexError\u001b[0m: arrays used as indices must be of integer (or boolean) type"
     ]
    }
   ],
   "source": [
    "for vis_x, _ in train.take(1):\n",
    "    for i in range(vis_x.shape[0]):\n",
    "        plot_and_predict(vis_x[i:i+1])\n",
    "        plt.show()\n",
    "gc.collect()"
   ]
  },
  {
   "cell_type": "code",
   "execution_count": null,
   "metadata": {},
   "outputs": [],
   "source": []
  }
 ],
 "metadata": {
  "kernelspec": {
   "display_name": "py3.7",
   "language": "python",
   "name": "py3.7"
  },
  "language_info": {
   "codemirror_mode": {
    "name": "ipython",
    "version": 3
   },
   "file_extension": ".py",
   "mimetype": "text/x-python",
   "name": "python",
   "nbconvert_exporter": "python",
   "pygments_lexer": "ipython3",
   "version": "3.7.4"
  }
 },
 "nbformat": 4,
 "nbformat_minor": 2
}
