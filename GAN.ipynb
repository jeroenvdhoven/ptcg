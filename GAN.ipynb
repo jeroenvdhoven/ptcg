{
 "cells": [
  {
   "cell_type": "code",
   "execution_count": 1,
   "metadata": {},
   "outputs": [
    {
     "name": "stdout",
     "output_type": "stream",
     "text": [
      "WARNING:tensorflow:From /Users/jvandenhoven/miniconda3/envs/py3.7/lib/python3.7/site-packages/tensorflow_gan/python/estimator/tpu_gan_estimator.py:42: The name tf.estimator.tpu.TPUEstimator is deprecated. Please use tf.compat.v1.estimator.tpu.TPUEstimator instead.\n",
      "\n"
     ]
    }
   ],
   "source": [
    "import tensorflow as tf\n",
    "from tensorflow import keras\n",
    "import pandas as pd\n",
    "import numpy as np\n",
    "import gc\n",
    "import matplotlib.pyplot as plt\n",
    "from tensorflow_gan.python.losses.losses_impl import wasserstein_generator_loss, wasserstein_discriminator_loss"
   ]
  },
  {
   "cell_type": "code",
   "execution_count": 2,
   "metadata": {},
   "outputs": [],
   "source": [
    "df = pd.read_csv(\"data/metadata.csv\")"
   ]
  },
  {
   "cell_type": "code",
   "execution_count": 3,
   "metadata": {
    "scrolled": false
   },
   "outputs": [
    {
     "data": {
      "text/html": [
       "<div>\n",
       "<style scoped>\n",
       "    .dataframe tbody tr th:only-of-type {\n",
       "        vertical-align: middle;\n",
       "    }\n",
       "\n",
       "    .dataframe tbody tr th {\n",
       "        vertical-align: top;\n",
       "    }\n",
       "\n",
       "    .dataframe thead th {\n",
       "        text-align: right;\n",
       "    }\n",
       "</style>\n",
       "<table border=\"1\" class=\"dataframe\">\n",
       "  <thead>\n",
       "    <tr style=\"text-align: right;\">\n",
       "      <th></th>\n",
       "      <th>card_file_name</th>\n",
       "      <th>id</th>\n",
       "      <th>link</th>\n",
       "      <th>name</th>\n",
       "      <th>rarity</th>\n",
       "      <th>setname</th>\n",
       "      <th>type</th>\n",
       "    </tr>\n",
       "  </thead>\n",
       "  <tbody>\n",
       "    <tr>\n",
       "      <th>0</th>\n",
       "      <td>data/pictures/Base Set/Alakazam_(Base_Set_1)</td>\n",
       "      <td>1/102</td>\n",
       "      <td>https://bulbapedia.bulbagarden.net/wiki/Alakaz...</td>\n",
       "      <td>Alakazam</td>\n",
       "      <td>Rare Holo</td>\n",
       "      <td>Base Set</td>\n",
       "      <td>Psychic</td>\n",
       "    </tr>\n",
       "    <tr>\n",
       "      <th>1</th>\n",
       "      <td>data/pictures/Base Set/Blastoise_(Base_Set_2)</td>\n",
       "      <td>2/102</td>\n",
       "      <td>https://bulbapedia.bulbagarden.net/wiki/Blasto...</td>\n",
       "      <td>Blastoise</td>\n",
       "      <td>Rare Holo</td>\n",
       "      <td>Base Set</td>\n",
       "      <td>Water</td>\n",
       "    </tr>\n",
       "    <tr>\n",
       "      <th>2</th>\n",
       "      <td>data/pictures/Base Set/Chansey_(Base_Set_3)</td>\n",
       "      <td>3/102</td>\n",
       "      <td>https://bulbapedia.bulbagarden.net/wiki/Chanse...</td>\n",
       "      <td>Chansey</td>\n",
       "      <td>Rare Holo</td>\n",
       "      <td>Base Set</td>\n",
       "      <td>Colorless</td>\n",
       "    </tr>\n",
       "    <tr>\n",
       "      <th>3</th>\n",
       "      <td>data/pictures/Base Set/Charizard_(Base_Set_4)</td>\n",
       "      <td>4/102</td>\n",
       "      <td>https://bulbapedia.bulbagarden.net/wiki/Chariz...</td>\n",
       "      <td>Charizard</td>\n",
       "      <td>Rare Holo</td>\n",
       "      <td>Base Set</td>\n",
       "      <td>Fire</td>\n",
       "    </tr>\n",
       "    <tr>\n",
       "      <th>4</th>\n",
       "      <td>data/pictures/Base Set/Clefairy_(Base_Set_5)</td>\n",
       "      <td>5/102</td>\n",
       "      <td>https://bulbapedia.bulbagarden.net/wiki/Clefai...</td>\n",
       "      <td>Clefairy</td>\n",
       "      <td>Rare Holo</td>\n",
       "      <td>Base Set</td>\n",
       "      <td>Colorless</td>\n",
       "    </tr>\n",
       "    <tr>\n",
       "      <th>...</th>\n",
       "      <td>...</td>\n",
       "      <td>...</td>\n",
       "      <td>...</td>\n",
       "      <td>...</td>\n",
       "      <td>...</td>\n",
       "      <td>...</td>\n",
       "      <td>...</td>\n",
       "    </tr>\n",
       "    <tr>\n",
       "      <th>9937</th>\n",
       "      <td>data/pictures/Pokémon Rumble/Lucario_(Pok%C3%A...</td>\n",
       "      <td>12/16</td>\n",
       "      <td>https://bulbapedia.bulbagarden.net/wiki/Lucari...</td>\n",
       "      <td>Lucario</td>\n",
       "      <td>Unknown rarity</td>\n",
       "      <td>Pokémon Rumble</td>\n",
       "      <td>Fighting</td>\n",
       "    </tr>\n",
       "    <tr>\n",
       "      <th>9938</th>\n",
       "      <td>data/pictures/Pokémon Rumble/Skuntank_(Pok%C3%...</td>\n",
       "      <td>13/16</td>\n",
       "      <td>https://bulbapedia.bulbagarden.net/wiki/Skunta...</td>\n",
       "      <td>Skuntank</td>\n",
       "      <td>Unknown rarity</td>\n",
       "      <td>Pokémon Rumble</td>\n",
       "      <td>Darkness</td>\n",
       "    </tr>\n",
       "    <tr>\n",
       "      <th>9939</th>\n",
       "      <td>data/pictures/Pokémon Rumble/Bastiodon_(Pok%C3...</td>\n",
       "      <td>14/16</td>\n",
       "      <td>https://bulbapedia.bulbagarden.net/wiki/Bastio...</td>\n",
       "      <td>Bastiodon</td>\n",
       "      <td>Unknown rarity</td>\n",
       "      <td>Pokémon Rumble</td>\n",
       "      <td>Metal</td>\n",
       "    </tr>\n",
       "    <tr>\n",
       "      <th>9940</th>\n",
       "      <td>data/pictures/Pokémon Rumble/Rattata_(Pok%C3%A...</td>\n",
       "      <td>15/16</td>\n",
       "      <td>https://bulbapedia.bulbagarden.net/wiki/Rattat...</td>\n",
       "      <td>Rattata</td>\n",
       "      <td>Unknown rarity</td>\n",
       "      <td>Pokémon Rumble</td>\n",
       "      <td>Colorless</td>\n",
       "    </tr>\n",
       "    <tr>\n",
       "      <th>9941</th>\n",
       "      <td>data/pictures/Pokémon Rumble/Bibarel_(Pok%C3%A...</td>\n",
       "      <td>16/16</td>\n",
       "      <td>https://bulbapedia.bulbagarden.net/wiki/Bibare...</td>\n",
       "      <td>Bibarel</td>\n",
       "      <td>Unknown rarity</td>\n",
       "      <td>Pokémon Rumble</td>\n",
       "      <td>Colorless</td>\n",
       "    </tr>\n",
       "  </tbody>\n",
       "</table>\n",
       "<p>9942 rows × 7 columns</p>\n",
       "</div>"
      ],
      "text/plain": [
       "                                         card_file_name     id  \\\n",
       "0          data/pictures/Base Set/Alakazam_(Base_Set_1)  1/102   \n",
       "1         data/pictures/Base Set/Blastoise_(Base_Set_2)  2/102   \n",
       "2           data/pictures/Base Set/Chansey_(Base_Set_3)  3/102   \n",
       "3         data/pictures/Base Set/Charizard_(Base_Set_4)  4/102   \n",
       "4          data/pictures/Base Set/Clefairy_(Base_Set_5)  5/102   \n",
       "...                                                 ...    ...   \n",
       "9937  data/pictures/Pokémon Rumble/Lucario_(Pok%C3%A...  12/16   \n",
       "9938  data/pictures/Pokémon Rumble/Skuntank_(Pok%C3%...  13/16   \n",
       "9939  data/pictures/Pokémon Rumble/Bastiodon_(Pok%C3...  14/16   \n",
       "9940  data/pictures/Pokémon Rumble/Rattata_(Pok%C3%A...  15/16   \n",
       "9941  data/pictures/Pokémon Rumble/Bibarel_(Pok%C3%A...  16/16   \n",
       "\n",
       "                                                   link       name  \\\n",
       "0     https://bulbapedia.bulbagarden.net/wiki/Alakaz...   Alakazam   \n",
       "1     https://bulbapedia.bulbagarden.net/wiki/Blasto...  Blastoise   \n",
       "2     https://bulbapedia.bulbagarden.net/wiki/Chanse...    Chansey   \n",
       "3     https://bulbapedia.bulbagarden.net/wiki/Chariz...  Charizard   \n",
       "4     https://bulbapedia.bulbagarden.net/wiki/Clefai...   Clefairy   \n",
       "...                                                 ...        ...   \n",
       "9937  https://bulbapedia.bulbagarden.net/wiki/Lucari...    Lucario   \n",
       "9938  https://bulbapedia.bulbagarden.net/wiki/Skunta...   Skuntank   \n",
       "9939  https://bulbapedia.bulbagarden.net/wiki/Bastio...  Bastiodon   \n",
       "9940  https://bulbapedia.bulbagarden.net/wiki/Rattat...    Rattata   \n",
       "9941  https://bulbapedia.bulbagarden.net/wiki/Bibare...    Bibarel   \n",
       "\n",
       "              rarity         setname       type  \n",
       "0          Rare Holo        Base Set    Psychic  \n",
       "1          Rare Holo        Base Set      Water  \n",
       "2          Rare Holo        Base Set  Colorless  \n",
       "3          Rare Holo        Base Set       Fire  \n",
       "4          Rare Holo        Base Set  Colorless  \n",
       "...              ...             ...        ...  \n",
       "9937  Unknown rarity  Pokémon Rumble   Fighting  \n",
       "9938  Unknown rarity  Pokémon Rumble   Darkness  \n",
       "9939  Unknown rarity  Pokémon Rumble      Metal  \n",
       "9940  Unknown rarity  Pokémon Rumble  Colorless  \n",
       "9941  Unknown rarity  Pokémon Rumble  Colorless  \n",
       "\n",
       "[9942 rows x 7 columns]"
      ]
     },
     "execution_count": 3,
     "metadata": {},
     "output_type": "execute_result"
    }
   ],
   "source": [
    "df"
   ]
  },
  {
   "cell_type": "markdown",
   "metadata": {},
   "source": [
    "# Drop a couple of bad records"
   ]
  },
  {
   "cell_type": "code",
   "execution_count": 4,
   "metadata": {},
   "outputs": [],
   "source": [
    "df = df[~df[\"card_file_name\"].isin([\n",
    "    \"data/pictures/Mysterious Treasures/Honchkrow_(Mysterious_Treasures_10)\",\n",
    "    \"data/pictures/Unified Minds/Umbreon_%26_Darkrai-GX_(Unified_Minds_125)\", # missing on website\n",
    "    \"data/pictures/Base Set/Charizard_(Base_Set_4)\", # special version of normal website\n",
    "    \"data/pictures/Stormfront/Charizard_(Stormfront_103)\", # special version of normal website\n",
    "])]"
   ]
  },
  {
   "cell_type": "markdown",
   "metadata": {},
   "source": [
    "filter to Pokemon types"
   ]
  },
  {
   "cell_type": "code",
   "execution_count": 5,
   "metadata": {},
   "outputs": [],
   "source": [
    "# df.type.value_counts()\n",
    "filter_to_pokemon_types = False\n",
    "filter_to_simple_rarities = True\n",
    "\n",
    "if filter_to_pokemon_types:\n",
    "    df = df[df[\"type\"].isin([\n",
    "        \"Water\",\n",
    "        \"Grass\",\n",
    "        \"Colorless\",\n",
    "        \"Psychic\",\n",
    "        \"Fighting\",\n",
    "        \"Fire\",\n",
    "        \"Lightning\",\n",
    "        \"Darkness\",\n",
    "        \"Metal\",\n",
    "        \"Dragon\",\n",
    "        \"Fairy\",\n",
    "    ])]\n",
    "\n",
    "if filter_to_simple_rarities:\n",
    "    df = df[df[\"rarity\"].isin([\n",
    "        \"Common\",\n",
    "        \"Uncommon\",\n",
    "        \"Rare\",\n",
    "        \"Rare Holo\",\n",
    "        \"Rare Holo ex\",\n",
    "    ])]\n"
   ]
  },
  {
   "cell_type": "markdown",
   "metadata": {},
   "source": [
    "# Parameters"
   ]
  },
  {
   "cell_type": "code",
   "execution_count": 69,
   "metadata": {},
   "outputs": [],
   "source": [
    "n_epochs = 200\n",
    "n_random_inputs_per_training = 800\n",
    "n_real_per_training = 4000\n",
    "batch_size = 100\n",
    "\n",
    "n_generator_input = 100\n",
    "n_generator_dense = 200\n",
    "\n",
    "use_greyscale = False\n",
    "\n",
    "columns_as_input = [\n",
    "    \"rarity\",\n",
    "    \"type\",\n",
    "#     \"setname\"\n",
    "]"
   ]
  },
  {
   "cell_type": "markdown",
   "metadata": {},
   "source": [
    "# Create dataset"
   ]
  },
  {
   "cell_type": "code",
   "execution_count": 7,
   "metadata": {},
   "outputs": [],
   "source": [
    "# Function to load and preprocess each image\n",
    "def parse_image_file(\n",
    "    filename,\n",
    "    label = None,\n",
    "    crop=False,\n",
    "    to_greyscale=False,\n",
    "):\n",
    "    img = tf.io.read_file(filename)\n",
    "    img = tf.cast(tf.image.decode_jpeg(img, channels=3), tf.float32) / 255.0\n",
    "    \n",
    "#     if img.shape[0] < 50:\n",
    "#         print(f\"Error with image `{filename}`: shape found was small: {img.shape}\")\n",
    "    img = tf.image.resize_with_crop_or_pad(img, 260, 180)\n",
    "    \n",
    "    # Some images have an extra alpha channel. Remove that.\n",
    "    img = img[:, :, :3]\n",
    "    \n",
    "    if crop:\n",
    "        img = tf.image.crop_to_bounding_box(\n",
    "            img, \n",
    "            offset_height = 35,\n",
    "            offset_width = 20,\n",
    "            target_height = 100,\n",
    "            target_width = 140,\n",
    "        )\n",
    "        \n",
    "    if to_greyscale:\n",
    "        img = tf.image.rgb_to_grayscale(img)\n",
    "        img = tf.expand_dims(img, -1)\n",
    "    \n",
    "    if label is None: return img\n",
    "    else: return img, label"
   ]
  },
  {
   "cell_type": "code",
   "execution_count": 8,
   "metadata": {},
   "outputs": [],
   "source": [
    "n_records = df.shape[0]"
   ]
  },
  {
   "cell_type": "code",
   "execution_count": 9,
   "metadata": {},
   "outputs": [
    {
     "data": {
      "text/plain": [
       "16"
      ]
     },
     "execution_count": 9,
     "metadata": {},
     "output_type": "execute_result"
    }
   ],
   "source": [
    "images = tf.constant(df[\"card_file_name\"].values)\n",
    "x = tf.stack([parse_image_file(img, crop=True, to_greyscale=use_greyscale) for img in images], axis=0)\n",
    "gc.collect()"
   ]
  },
  {
   "cell_type": "code",
   "execution_count": 10,
   "metadata": {},
   "outputs": [
    {
     "data": {
      "text/plain": [
       "<matplotlib.image.AxesImage at 0x1a40d4d50>"
      ]
     },
     "execution_count": 10,
     "metadata": {},
     "output_type": "execute_result"
    },
    {
     "data": {
      "image/png": "[encoded data removed]",
      "text/plain": [
       "<Figure size 432x288 with 1 Axes>"
      ]
     },
     "metadata": {
      "needs_background": "light"
     },
     "output_type": "display_data"
    }
   ],
   "source": [
    "example_input = x[0]\n",
    "generator_dense_output_size = int(tf.reduce_prod(example_input.shape))\n",
    "generator_output_size = example_input.shape\n",
    "\n",
    "plt.imshow(tf.squeeze(x[0]), cmap='gray')"
   ]
  },
  {
   "cell_type": "markdown",
   "metadata": {},
   "source": [
    "### Make the class dataset"
   ]
  },
  {
   "cell_type": "code",
   "execution_count": 11,
   "metadata": {},
   "outputs": [],
   "source": [
    "def label_converter(label):\n",
    "    return tf.math.argmax(label, axis=-1)\n",
    "\n",
    "def make_conversion_function(classes):\n",
    "    return lambda idx: convert_column(idx, classes)\n",
    "\n",
    "def convert_column(idx, classes):\n",
    "    return tf.gather(classes, idx)\n",
    "    \n",
    "def target_columns_to_tf(column_names):\n",
    "    y = {}\n",
    "    size_per_class = []\n",
    "    conversion_functions = {}\n",
    "    \n",
    "    for colname in column_names:\n",
    "        col = df[colname]\n",
    "        classnames, indices = np.unique(col.values, return_inverse=True)\n",
    "        classnames = np.append(classnames, \"Fake\")\n",
    "        n_classes = len(classnames)\n",
    "        size_per_class.append(n_classes)\n",
    "        \n",
    "        conversion_functions[colname] = make_conversion_function(classnames)\n",
    "        y[colname] = keras.utils.to_categorical(indices, n_classes)\n",
    "\n",
    "    return (\n",
    "        y,\n",
    "        size_per_class,\n",
    "        conversion_functions,\n",
    "    )"
   ]
  },
  {
   "cell_type": "code",
   "execution_count": 12,
   "metadata": {},
   "outputs": [],
   "source": [
    "y, size_per_class, conversion_functions = target_columns_to_tf(columns_as_input)\n",
    "\n",
    "def convert_target_matrix_to_label(pred, colname):\n",
    "    current_start_index = 0\n",
    "    pred = pred[colname]\n",
    "    \n",
    "    label_indices = label_converter(pred)\n",
    "    return conversion_functions[colname](label_indices)\n"
   ]
  },
  {
   "cell_type": "code",
   "execution_count": 13,
   "metadata": {},
   "outputs": [
    {
     "data": {
      "text/plain": [
       "<tf.Tensor: shape=(8711,), dtype=string, numpy=\n",
       "array([b'Psychic', b'Water', b'Colorless', ..., b'T', b'T [Su]',\n",
       "       b'Colorless'], dtype=object)>"
      ]
     },
     "execution_count": 13,
     "metadata": {},
     "output_type": "execute_result"
    }
   ],
   "source": [
    "convert_target_matrix_to_label(y, \"type\")"
   ]
  },
  {
   "cell_type": "markdown",
   "metadata": {},
   "source": [
    "# Generator"
   ]
  },
  {
   "cell_type": "code",
   "execution_count": 150,
   "metadata": {},
   "outputs": [
    {
     "name": "stdout",
     "output_type": "stream",
     "text": [
      "1 --- width: 140\t height: 100\n",
      "3 --- width: 70.0\t height: 50.0\n",
      "9 --- width: 34.0\t height: 24.0\n"
     ]
    }
   ],
   "source": [
    "generator_conv_sizes = [9, 3, 1]\n",
    "generator_init_height = generator_output_size[0]\n",
    "generator_init_width = generator_output_size[1]\n",
    "generator_init_channels = 40\n",
    "generator_filters = 10\n",
    "\n",
    "for conv_size in reversed(generator_conv_sizes):\n",
    "    print(f\"{conv_size} --- width: {generator_init_width}\\t height: {generator_init_height}\")\n",
    "    generator_init_width = (generator_init_width - (conv_size - 1)) / 2\n",
    "    generator_init_height = (generator_init_height - (conv_size - 1)) / 2\n",
    "    \n",
    "assert int(generator_init_width) == generator_init_width and int(generator_init_height) == generator_init_height\n",
    "generator_init_width = int(generator_init_width)\n",
    "generator_init_height = int(generator_init_height)\n",
    "\n",
    "generator_last_dense_layer = generator_init_height * generator_init_channels * generator_init_width"
   ]
  },
  {
   "cell_type": "code",
   "execution_count": 151,
   "metadata": {},
   "outputs": [],
   "source": [
    "generator_input = keras.layers.Input((n_generator_input + sum(size_per_class),))\n",
    "gen_x = keras.layers.Dropout(.5)(generator_input)\n",
    "gen_x = keras.layers.Dense(n_generator_dense)(gen_x)\n",
    "gen_x = keras.layers.LeakyReLU()(gen_x)\n",
    "gen_x = keras.layers.Dense(n_generator_dense)(gen_x)\n",
    "gen_x = keras.layers.LeakyReLU()(gen_x)\n",
    "gen_x = keras.layers.Dense(generator_last_dense_layer)(gen_x)\n",
    "gen_x = keras.layers.LeakyReLU()(gen_x)\n",
    "gen_x = keras.layers.Reshape((generator_init_height, generator_init_width, generator_init_channels))(gen_x)\n",
    "\n",
    "\n",
    "for i, conv_size in enumerate(generator_conv_sizes):\n",
    "    if i < len(generator_conv_sizes) - 1:\n",
    "        act = \"relu\"\n",
    "        filters=generator_filters\n",
    "    else:\n",
    "        act = \"sigmoid\"\n",
    "        filters= 1 if use_greyscale else 3\n",
    "    \n",
    "    \n",
    "    gen_x = keras.layers.UpSampling2D(size=2)(gen_x)\n",
    "    gen_x = keras.layers.Conv2DTranspose(\n",
    "        filters=filters, \n",
    "        kernel_size=conv_size,\n",
    "        activation=act,\n",
    "    )(gen_x)\n",
    "    \n",
    "generator = keras.Model(generator_input, gen_x)"
   ]
  },
  {
   "cell_type": "code",
   "execution_count": 152,
   "metadata": {},
   "outputs": [
    {
     "name": "stdout",
     "output_type": "stream",
     "text": [
      "Model: \"model_4\"\n",
      "_________________________________________________________________\n",
      "Layer (type)                 Output Shape              Param #   \n",
      "=================================================================\n",
      "input_5 (InputLayer)         [(None, 126)]             0         \n",
      "_________________________________________________________________\n",
      "dropout_4 (Dropout)          (None, 126)               0         \n",
      "_________________________________________________________________\n",
      "dense_10 (Dense)             (None, 200)               25400     \n",
      "_________________________________________________________________\n",
      "leaky_re_lu_10 (LeakyReLU)   (None, 200)               0         \n",
      "_________________________________________________________________\n",
      "dense_11 (Dense)             (None, 200)               40200     \n",
      "_________________________________________________________________\n",
      "leaky_re_lu_11 (LeakyReLU)   (None, 200)               0         \n",
      "_________________________________________________________________\n",
      "dense_12 (Dense)             (None, 4160)              836160    \n",
      "_________________________________________________________________\n",
      "leaky_re_lu_12 (LeakyReLU)   (None, 4160)              0         \n",
      "_________________________________________________________________\n",
      "reshape_2 (Reshape)          (None, 8, 13, 40)         0         \n",
      "_________________________________________________________________\n",
      "up_sampling2d_6 (UpSampling2 (None, 16, 26, 40)        0         \n",
      "_________________________________________________________________\n",
      "conv2d_transpose_6 (Conv2DTr (None, 24, 34, 10)        32410     \n",
      "_________________________________________________________________\n",
      "up_sampling2d_7 (UpSampling2 (None, 48, 68, 10)        0         \n",
      "_________________________________________________________________\n",
      "conv2d_transpose_7 (Conv2DTr (None, 50, 70, 10)        910       \n",
      "_________________________________________________________________\n",
      "up_sampling2d_8 (UpSampling2 (None, 100, 140, 10)      0         \n",
      "_________________________________________________________________\n",
      "conv2d_transpose_8 (Conv2DTr (None, 100, 140, 3)       33        \n",
      "=================================================================\n",
      "Total params: 935,113\n",
      "Trainable params: 935,113\n",
      "Non-trainable params: 0\n",
      "_________________________________________________________________\n"
     ]
    }
   ],
   "source": [
    "generator.summary()"
   ]
  },
  {
   "cell_type": "code",
   "execution_count": 153,
   "metadata": {
    "scrolled": true
   },
   "outputs": [],
   "source": [
    "random_input = tf.expand_dims(\n",
    "    tf.ones(n_generator_input + sum(size_per_class)), 0\n",
    ")\n",
    "assert generator.predict(random_input).shape == tf.expand_dims(example_input, 0).shape"
   ]
  },
  {
   "cell_type": "markdown",
   "metadata": {},
   "source": [
    "# Discriminator"
   ]
  },
  {
   "cell_type": "code",
   "execution_count": 20,
   "metadata": {},
   "outputs": [],
   "source": [
    "inputs = keras.layers.Input(shape=generator_output_size)\n",
    "x_1 = keras.layers.Dropout(.5, input_shape=generator_output_size)(inputs)\n",
    "x_1 = keras.layers.Conv2D(filters=60, kernel_size=5, strides=2, input_shape=generator_output_size)(x_1)\n",
    "x_1 = keras.layers.MaxPool2D()(x_1)\n",
    "x_1 = keras.layers.Conv2D(filters=20, kernel_size=5, strides=2)(x_1)\n",
    "x_1 = keras.layers.MaxPool2D()(x_1)\n",
    "x_1 = keras.layers.Flatten()(x_1)\n",
    "x_1 = keras.layers.Dense(units=200)(x_1)\n",
    "x_1 = keras.layers.LeakyReLU()(x_1)\n",
    "x_1 = keras.layers.Dense(units=200)(x_1)\n",
    "x_1 = keras.layers.LeakyReLU()(x_1)\n",
    "    \n",
    "outputs = {\n",
    "    colname: keras.layers.Dense(units=size, activation=\"softmax\", name=colname)(x_1) \n",
    "    for colname, size in zip(columns_as_input, size_per_class)\n",
    "}\n",
    "\n",
    "\n",
    "discriminator = keras.Model(inputs, outputs, name=\"discriminator\")"
   ]
  },
  {
   "cell_type": "code",
   "execution_count": 28,
   "metadata": {},
   "outputs": [],
   "source": [
    "inputs = keras.layers.Input(shape=generator_output_size)\n",
    "x_1 = keras.layers.Dropout(.5, input_shape=generator_output_size)(inputs)\n",
    "x_1 = keras.layers.Conv2D(filters=60, kernel_size=5, strides=2, input_shape=generator_output_size)(x_1)\n",
    "x_1 = keras.layers.MaxPool2D()(x_1)\n",
    "x_1 = keras.layers.Conv2D(filters=20, kernel_size=5, strides=2)(x_1)\n",
    "x_1 = keras.layers.MaxPool2D()(x_1)\n",
    "x_1 = keras.layers.Flatten()(x_1)\n",
    "x_1 = keras.layers.Dense(units=200)(x_1)\n",
    "x_1 = keras.layers.LeakyReLU()(x_1)\n",
    "x_1 = keras.layers.Dense(units=200)(x_1)\n",
    "x_1 = keras.layers.LeakyReLU()(x_1)\n",
    "    \n",
    "outputs = {\n",
    "    colname: keras.layers.Dense(units=size, activation=\"softmax\", name=colname)(x_1) \n",
    "    for colname, size in zip(columns_as_input, size_per_class)\n",
    "}\n",
    "\n",
    "\n",
    "discriminator = keras.Model(inputs, outputs, name=\"discriminator\")\n",
    "\n",
    "discriminator.compile(\n",
    "    optimizer=keras.optimizers.Nadam(learning_rate=.001),\n",
    "    loss=keras.losses.categorical_crossentropy,\n",
    "    metrics=[keras.metrics.CategoricalAccuracy()],\n",
    ")\n",
    "discriminator.trainable = False"
   ]
  },
  {
   "cell_type": "code",
   "execution_count": 29,
   "metadata": {
    "scrolled": false
   },
   "outputs": [
    {
     "name": "stdout",
     "output_type": "stream",
     "text": [
      "Model: \"discriminator\"\n",
      "__________________________________________________________________________________________________\n",
      "Layer (type)                    Output Shape         Param #     Connected to                     \n",
      "==================================================================================================\n",
      "input_3 (InputLayer)            [(None, 100, 140, 3) 0                                            \n",
      "__________________________________________________________________________________________________\n",
      "dropout_2 (Dropout)             (None, 100, 140, 3)  0           input_3[0][0]                    \n",
      "__________________________________________________________________________________________________\n",
      "conv2d_2 (Conv2D)               (None, 48, 68, 60)   4560        dropout_2[0][0]                  \n",
      "__________________________________________________________________________________________________\n",
      "max_pooling2d_2 (MaxPooling2D)  (None, 24, 34, 60)   0           conv2d_2[0][0]                   \n",
      "__________________________________________________________________________________________________\n",
      "conv2d_3 (Conv2D)               (None, 10, 15, 20)   30020       max_pooling2d_2[0][0]            \n",
      "__________________________________________________________________________________________________\n",
      "max_pooling2d_3 (MaxPooling2D)  (None, 5, 7, 20)     0           conv2d_3[0][0]                   \n",
      "__________________________________________________________________________________________________\n",
      "flatten_1 (Flatten)             (None, 700)          0           max_pooling2d_3[0][0]            \n",
      "__________________________________________________________________________________________________\n",
      "dense_5 (Dense)                 (None, 200)          140200      flatten_1[0][0]                  \n",
      "__________________________________________________________________________________________________\n",
      "leaky_re_lu_5 (LeakyReLU)       (None, 200)          0           dense_5[0][0]                    \n",
      "__________________________________________________________________________________________________\n",
      "dense_6 (Dense)                 (None, 200)          40200       leaky_re_lu_5[0][0]              \n",
      "__________________________________________________________________________________________________\n",
      "leaky_re_lu_6 (LeakyReLU)       (None, 200)          0           dense_6[0][0]                    \n",
      "__________________________________________________________________________________________________\n",
      "rarity (Dense)                  (None, 6)            1206        leaky_re_lu_6[0][0]              \n",
      "__________________________________________________________________________________________________\n",
      "type (Dense)                    (None, 20)           4020        leaky_re_lu_6[0][0]              \n",
      "==================================================================================================\n",
      "Total params: 440,412\n",
      "Trainable params: 220,206\n",
      "Non-trainable params: 220,206\n",
      "__________________________________________________________________________________________________\n"
     ]
    }
   ],
   "source": [
    "discriminator.summary()"
   ]
  },
  {
   "cell_type": "markdown",
   "metadata": {},
   "source": [
    "# Generator training model"
   ]
  },
  {
   "cell_type": "code",
   "execution_count": 154,
   "metadata": {},
   "outputs": [
    {
     "name": "stdout",
     "output_type": "stream",
     "text": [
      "Model: \"model_5\"\n",
      "_________________________________________________________________\n",
      "Layer (type)                 Output Shape              Param #   \n",
      "=================================================================\n",
      "input_5 (InputLayer)         [(None, 126)]             0         \n",
      "_________________________________________________________________\n",
      "model_4 (Model)              (None, 100, 140, 3)       935113    \n",
      "_________________________________________________________________\n",
      "discriminator (Model)        {'rarity': (None, 6), 'ty 220206    \n",
      "=================================================================\n",
      "Total params: 1,155,319\n",
      "Trainable params: 935,113\n",
      "Non-trainable params: 220,206\n",
      "_________________________________________________________________\n"
     ]
    }
   ],
   "source": [
    "generator_trainer = keras.Model(\n",
    "    generator_input,\n",
    "    discriminator(generator(generator_input)), \n",
    ")\n",
    "\n",
    "generator_trainer.summary()"
   ]
  },
  {
   "cell_type": "code",
   "execution_count": 155,
   "metadata": {},
   "outputs": [],
   "source": [
    "def generator_loss(y_true, y_pred):\n",
    "    return tf.reduce_mean(-tf.math.log(y_pred + 1.0e-6))"
   ]
  },
  {
   "cell_type": "code",
   "execution_count": 156,
   "metadata": {},
   "outputs": [],
   "source": [
    "generator_trainer.compile(\n",
    "    optimizer=keras.optimizers.Nadam(learning_rate=.001),\n",
    "#     loss=generator_loss,\n",
    "    loss=keras.losses.categorical_crossentropy,\n",
    "    metrics=[keras.metrics.CategoricalAccuracy()],\n",
    ")"
   ]
  },
  {
   "cell_type": "code",
   "execution_count": 157,
   "metadata": {},
   "outputs": [],
   "source": [
    "random_input = tf.expand_dims(\n",
    "    tf.ones(n_generator_input+sum(size_per_class)), 0\n",
    ")\n",
    "test_predict = generator_trainer.predict(random_input)\n",
    "\n",
    "for output, expected_size in zip(test_predict, size_per_class):\n",
    "    assert output.shape[1] == expected_size, f\"{output.shape} vs {expected_size}\""
   ]
  },
  {
   "cell_type": "markdown",
   "metadata": {},
   "source": [
    "# Training"
   ]
  },
  {
   "cell_type": "code",
   "execution_count": 99,
   "metadata": {},
   "outputs": [],
   "source": [
    "def make_generator_input(n_records):\n",
    "    base_random_input = tf.random.normal((n_records, n_generator_input))\n",
    "    \n",
    "    labels = [\n",
    "        keras.utils.to_categorical(\n",
    "            tf.convert_to_tensor(\n",
    "                np.random.randint(size=(n_records, 1), low=0, high=size-1) # -1 to avoid making fake classes\n",
    "            )\n",
    "        , size)\n",
    "        for size in size_per_class\n",
    "    ]\n",
    "    \n",
    "    x_extra = tf.concat(labels, axis=-1)\n",
    "    \n",
    "    x = tf.concat([base_random_input, x_extra], axis=-1)\n",
    "    y = {colname: label for colname, label in zip(columns_as_input, labels)}\n",
    "    return x, y\n",
    "\n",
    "assert make_generator_input(10)[0].shape[1] == n_generator_input + sum(size_per_class)"
   ]
  },
  {
   "cell_type": "code",
   "execution_count": 35,
   "metadata": {},
   "outputs": [],
   "source": [
    "# Intionally swapped tradidtion fake/real labels\n",
    "def make_fake_label(n_records):\n",
    "    return {\n",
    "        colname: keras.utils.to_categorical(tf.ones((n_records, 1)) * (size - 1), size)\n",
    "        for colname, size in zip(columns_as_input, size_per_class)\n",
    "    }\n",
    "\n",
    "def make_real_label(n_records):\n",
    "    return make_label(n_records, 0.9, 1)\n",
    "\n",
    "def make_label(n_records, min_, max_):\n",
    "    return tf.random.uniform(shape=(n_records, 1), minval=min_, maxval=max_)\n",
    "\n",
    "def concat_y(y_1, y_2):\n",
    "    return {k: tf.concat((v, y_2[k]), axis=0) for k, v in y_1.items()}\n",
    "\n",
    "def squeeze_y(Y, idx):\n",
    "    return {k: tf.squeeze(tf.gather(v, idx)) for k, v in Y.items()}"
   ]
  },
  {
   "cell_type": "markdown",
   "metadata": {},
   "source": [
    "# Pretrain discriminator"
   ]
  },
  {
   "cell_type": "code",
   "execution_count": 36,
   "metadata": {},
   "outputs": [],
   "source": [
    "def train_discriminator(\n",
    "    epochs,\n",
    "    n_real=n_real_per_training,\n",
    "    n_fake=n_random_inputs_per_training,\n",
    "    \n",
    "):\n",
    "    with_real = n_real > 0\n",
    "    with_fake = n_fake > 0 \n",
    "    \n",
    "    if with_fake:\n",
    "        generator_x, generator_y = make_generator_input(n_fake)\n",
    "        generated_input = generator.predict(generator_x)\n",
    "        generator_y_fake = make_fake_label(n_fake)\n",
    "\n",
    "    if with_real:\n",
    "        if n_real == x.shape[0]:\n",
    "            real_x = x\n",
    "            real_y = y\n",
    "        else:\n",
    "            real_indices = np.random.randint(size=(n_real, 1), low=0, high=n_records)\n",
    "            real_x = tf.squeeze(tf.gather(x, real_indices))\n",
    "            real_y = squeeze_y(y, real_indices)\n",
    "    \n",
    "    if with_real and with_fake:\n",
    "        discriminator_x = tf.concat((real_x, generated_input), axis=0)\n",
    "        discriminator_y = concat_y(real_y, generator_y_fake)\n",
    "    elif with_real:\n",
    "        discriminator_x = real_x\n",
    "        discriminator_y = real_y\n",
    "    elif with_fake:\n",
    "        discriminator_x = generated_input\n",
    "        discriminator_y = generator_y_fake\n",
    "        \n",
    "    discriminator.fit(discriminator_x, discriminator_y, epochs=epochs, shuffle=True, batch_size=batch_size)"
   ]
  },
  {
   "cell_type": "code",
   "execution_count": 43,
   "metadata": {},
   "outputs": [
    {
     "name": "stdout",
     "output_type": "stream",
     "text": [
      "Train on 8711 samples\n",
      "Epoch 1/20\n",
      "8711/8711 [==============================] - 15s 2ms/sample - loss: 1.6915 - rarity_loss: 0.7872 - type_loss: 0.9044 - rarity_categorical_accuracy: 0.6874 - type_categorical_accuracy: 0.6913\n",
      "Epoch 2/20\n",
      "8711/8711 [==============================] - 15s 2ms/sample - loss: 1.6269 - rarity_loss: 0.7551 - type_loss: 0.8658 - rarity_categorical_accuracy: 0.6951 - type_categorical_accuracy: 0.6988\n",
      "Epoch 3/20\n",
      "8711/8711 [==============================] - 15s 2ms/sample - loss: 1.5185 - rarity_loss: 0.7261 - type_loss: 0.7905 - rarity_categorical_accuracy: 0.7057 - type_categorical_accuracy: 0.7346\n",
      "Epoch 4/20\n",
      "8711/8711 [==============================] - 15s 2ms/sample - loss: 1.4502 - rarity_loss: 0.6915 - type_loss: 0.7556 - rarity_categorical_accuracy: 0.7268 - type_categorical_accuracy: 0.7349\n",
      "Epoch 5/20\n",
      "8711/8711 [==============================] - 15s 2ms/sample - loss: 1.3690 - rarity_loss: 0.6707 - type_loss: 0.6983 - rarity_categorical_accuracy: 0.7333 - type_categorical_accuracy: 0.7626\n",
      "Epoch 6/20\n",
      "8711/8711 [==============================] - 15s 2ms/sample - loss: 1.2880 - rarity_loss: 0.6365 - type_loss: 0.6547 - rarity_categorical_accuracy: 0.7415 - type_categorical_accuracy: 0.7745\n",
      "Epoch 7/20\n",
      "8711/8711 [==============================] - 15s 2ms/sample - loss: 1.2327 - rarity_loss: 0.6005 - type_loss: 0.6338 - rarity_categorical_accuracy: 0.7636 - type_categorical_accuracy: 0.7854\n",
      "Epoch 8/20\n",
      "8711/8711 [==============================] - 15s 2ms/sample - loss: 1.1841 - rarity_loss: 0.5862 - type_loss: 0.5956 - rarity_categorical_accuracy: 0.7733 - type_categorical_accuracy: 0.7946\n",
      "Epoch 9/20\n",
      "8711/8711 [==============================] - 15s 2ms/sample - loss: 1.1089 - rarity_loss: 0.5623 - type_loss: 0.5467 - rarity_categorical_accuracy: 0.7802 - type_categorical_accuracy: 0.8128\n",
      "Epoch 10/20\n",
      "8711/8711 [==============================] - 15s 2ms/sample - loss: 1.0320 - rarity_loss: 0.5303 - type_loss: 0.5015 - rarity_categorical_accuracy: 0.7932 - type_categorical_accuracy: 0.8302\n",
      "Epoch 11/20\n",
      " 400/8711 [>.............................] - ETA: 14s - loss: 0.9555 - rarity_loss: 0.5385 - type_loss: 0.4170 - rarity_categorical_accuracy: 0.7933 - type_categorical_accuracy: 0.8500"
     ]
    },
    {
     "ename": "KeyboardInterrupt",
     "evalue": "",
     "output_type": "error",
     "traceback": [
      "\u001b[0;31m---------------------------------------------------------------------------\u001b[0m",
      "\u001b[0;31mKeyboardInterrupt\u001b[0m                         Traceback (most recent call last)",
      "\u001b[0;32m<ipython-input-43-ae1de18b8a38>\u001b[0m in \u001b[0;36m<module>\u001b[0;34m\u001b[0m\n\u001b[1;32m      1\u001b[0m \u001b[0;32mtry\u001b[0m\u001b[0;34m:\u001b[0m\u001b[0;34m\u001b[0m\u001b[0;34m\u001b[0m\u001b[0m\n\u001b[0;32m----> 2\u001b[0;31m     \u001b[0mtrain_discriminator\u001b[0m\u001b[0;34m(\u001b[0m\u001b[0mepochs\u001b[0m\u001b[0;34m=\u001b[0m\u001b[0;36m20\u001b[0m\u001b[0;34m,\u001b[0m \u001b[0mn_real\u001b[0m\u001b[0;34m=\u001b[0m\u001b[0mx\u001b[0m\u001b[0;34m.\u001b[0m\u001b[0mshape\u001b[0m\u001b[0;34m[\u001b[0m\u001b[0;36m0\u001b[0m\u001b[0;34m]\u001b[0m\u001b[0;34m,\u001b[0m \u001b[0mn_fake\u001b[0m\u001b[0;34m=\u001b[0m\u001b[0;36m0\u001b[0m\u001b[0;34m)\u001b[0m\u001b[0;34m\u001b[0m\u001b[0;34m\u001b[0m\u001b[0m\n\u001b[0m\u001b[1;32m      3\u001b[0m \u001b[0;32mfinally\u001b[0m\u001b[0;34m:\u001b[0m\u001b[0;34m\u001b[0m\u001b[0;34m\u001b[0m\u001b[0m\n\u001b[1;32m      4\u001b[0m     \u001b[0mgc\u001b[0m\u001b[0;34m.\u001b[0m\u001b[0mcollect\u001b[0m\u001b[0;34m(\u001b[0m\u001b[0;34m)\u001b[0m\u001b[0;34m\u001b[0m\u001b[0;34m\u001b[0m\u001b[0m\n",
      "\u001b[0;32m<ipython-input-36-28a08a45c58e>\u001b[0m in \u001b[0;36mtrain_discriminator\u001b[0;34m(epochs, n_real, n_fake)\u001b[0m\n\u001b[1;32m     32\u001b[0m         \u001b[0mdiscriminator_y\u001b[0m \u001b[0;34m=\u001b[0m \u001b[0mgenerator_y_fake\u001b[0m\u001b[0;34m\u001b[0m\u001b[0;34m\u001b[0m\u001b[0m\n\u001b[1;32m     33\u001b[0m \u001b[0;34m\u001b[0m\u001b[0m\n\u001b[0;32m---> 34\u001b[0;31m     \u001b[0mdiscriminator\u001b[0m\u001b[0;34m.\u001b[0m\u001b[0mfit\u001b[0m\u001b[0;34m(\u001b[0m\u001b[0mdiscriminator_x\u001b[0m\u001b[0;34m,\u001b[0m \u001b[0mdiscriminator_y\u001b[0m\u001b[0;34m,\u001b[0m \u001b[0mepochs\u001b[0m\u001b[0;34m=\u001b[0m\u001b[0mepochs\u001b[0m\u001b[0;34m,\u001b[0m \u001b[0mshuffle\u001b[0m\u001b[0;34m=\u001b[0m\u001b[0;32mTrue\u001b[0m\u001b[0;34m,\u001b[0m \u001b[0mbatch_size\u001b[0m\u001b[0;34m=\u001b[0m\u001b[0mbatch_size\u001b[0m\u001b[0;34m)\u001b[0m\u001b[0;34m\u001b[0m\u001b[0;34m\u001b[0m\u001b[0m\n\u001b[0m",
      "\u001b[0;32m~/miniconda3/envs/py3.7/lib/python3.7/site-packages/tensorflow_core/python/keras/engine/training.py\u001b[0m in \u001b[0;36mfit\u001b[0;34m(self, x, y, batch_size, epochs, verbose, callbacks, validation_split, validation_data, shuffle, class_weight, sample_weight, initial_epoch, steps_per_epoch, validation_steps, validation_freq, max_queue_size, workers, use_multiprocessing, **kwargs)\u001b[0m\n\u001b[1;32m    817\u001b[0m         \u001b[0mmax_queue_size\u001b[0m\u001b[0;34m=\u001b[0m\u001b[0mmax_queue_size\u001b[0m\u001b[0;34m,\u001b[0m\u001b[0;34m\u001b[0m\u001b[0;34m\u001b[0m\u001b[0m\n\u001b[1;32m    818\u001b[0m         \u001b[0mworkers\u001b[0m\u001b[0;34m=\u001b[0m\u001b[0mworkers\u001b[0m\u001b[0;34m,\u001b[0m\u001b[0;34m\u001b[0m\u001b[0;34m\u001b[0m\u001b[0m\n\u001b[0;32m--> 819\u001b[0;31m         use_multiprocessing=use_multiprocessing)\n\u001b[0m\u001b[1;32m    820\u001b[0m \u001b[0;34m\u001b[0m\u001b[0m\n\u001b[1;32m    821\u001b[0m   def evaluate(self,\n",
      "\u001b[0;32m~/miniconda3/envs/py3.7/lib/python3.7/site-packages/tensorflow_core/python/keras/engine/training_v2.py\u001b[0m in \u001b[0;36mfit\u001b[0;34m(self, model, x, y, batch_size, epochs, verbose, callbacks, validation_split, validation_data, shuffle, class_weight, sample_weight, initial_epoch, steps_per_epoch, validation_steps, validation_freq, max_queue_size, workers, use_multiprocessing, **kwargs)\u001b[0m\n\u001b[1;32m    340\u001b[0m                 \u001b[0mmode\u001b[0m\u001b[0;34m=\u001b[0m\u001b[0mModeKeys\u001b[0m\u001b[0;34m.\u001b[0m\u001b[0mTRAIN\u001b[0m\u001b[0;34m,\u001b[0m\u001b[0;34m\u001b[0m\u001b[0;34m\u001b[0m\u001b[0m\n\u001b[1;32m    341\u001b[0m                 \u001b[0mtraining_context\u001b[0m\u001b[0;34m=\u001b[0m\u001b[0mtraining_context\u001b[0m\u001b[0;34m,\u001b[0m\u001b[0;34m\u001b[0m\u001b[0;34m\u001b[0m\u001b[0m\n\u001b[0;32m--> 342\u001b[0;31m                 total_epochs=epochs)\n\u001b[0m\u001b[1;32m    343\u001b[0m             \u001b[0mcbks\u001b[0m\u001b[0;34m.\u001b[0m\u001b[0mmake_logs\u001b[0m\u001b[0;34m(\u001b[0m\u001b[0mmodel\u001b[0m\u001b[0;34m,\u001b[0m \u001b[0mepoch_logs\u001b[0m\u001b[0;34m,\u001b[0m \u001b[0mtraining_result\u001b[0m\u001b[0;34m,\u001b[0m \u001b[0mModeKeys\u001b[0m\u001b[0;34m.\u001b[0m\u001b[0mTRAIN\u001b[0m\u001b[0;34m)\u001b[0m\u001b[0;34m\u001b[0m\u001b[0;34m\u001b[0m\u001b[0m\n\u001b[1;32m    344\u001b[0m \u001b[0;34m\u001b[0m\u001b[0m\n",
      "\u001b[0;32m~/miniconda3/envs/py3.7/lib/python3.7/site-packages/tensorflow_core/python/keras/engine/training_v2.py\u001b[0m in \u001b[0;36mrun_one_epoch\u001b[0;34m(model, iterator, execution_function, dataset_size, batch_size, strategy, steps_per_epoch, num_samples, mode, training_context, total_epochs)\u001b[0m\n\u001b[1;32m    126\u001b[0m         step=step, mode=mode, size=current_batch_size) as batch_logs:\n\u001b[1;32m    127\u001b[0m       \u001b[0;32mtry\u001b[0m\u001b[0;34m:\u001b[0m\u001b[0;34m\u001b[0m\u001b[0;34m\u001b[0m\u001b[0m\n\u001b[0;32m--> 128\u001b[0;31m         \u001b[0mbatch_outs\u001b[0m \u001b[0;34m=\u001b[0m \u001b[0mexecution_function\u001b[0m\u001b[0;34m(\u001b[0m\u001b[0miterator\u001b[0m\u001b[0;34m)\u001b[0m\u001b[0;34m\u001b[0m\u001b[0;34m\u001b[0m\u001b[0m\n\u001b[0m\u001b[1;32m    129\u001b[0m       \u001b[0;32mexcept\u001b[0m \u001b[0;34m(\u001b[0m\u001b[0mStopIteration\u001b[0m\u001b[0;34m,\u001b[0m \u001b[0merrors\u001b[0m\u001b[0;34m.\u001b[0m\u001b[0mOutOfRangeError\u001b[0m\u001b[0;34m)\u001b[0m\u001b[0;34m:\u001b[0m\u001b[0;34m\u001b[0m\u001b[0;34m\u001b[0m\u001b[0m\n\u001b[1;32m    130\u001b[0m         \u001b[0;31m# TODO(kaftan): File bug about tf function and errors.OutOfRangeError?\u001b[0m\u001b[0;34m\u001b[0m\u001b[0;34m\u001b[0m\u001b[0;34m\u001b[0m\u001b[0m\n",
      "\u001b[0;32m~/miniconda3/envs/py3.7/lib/python3.7/site-packages/tensorflow_core/python/keras/engine/training_v2_utils.py\u001b[0m in \u001b[0;36mexecution_function\u001b[0;34m(input_fn)\u001b[0m\n\u001b[1;32m     96\u001b[0m     \u001b[0;31m# `numpy` translates Tensors to values in Eager mode.\u001b[0m\u001b[0;34m\u001b[0m\u001b[0;34m\u001b[0m\u001b[0;34m\u001b[0m\u001b[0m\n\u001b[1;32m     97\u001b[0m     return nest.map_structure(_non_none_constant_value,\n\u001b[0;32m---> 98\u001b[0;31m                               distributed_function(input_fn))\n\u001b[0m\u001b[1;32m     99\u001b[0m \u001b[0;34m\u001b[0m\u001b[0m\n\u001b[1;32m    100\u001b[0m   \u001b[0;32mreturn\u001b[0m \u001b[0mexecution_function\u001b[0m\u001b[0;34m\u001b[0m\u001b[0;34m\u001b[0m\u001b[0m\n",
      "\u001b[0;32m~/miniconda3/envs/py3.7/lib/python3.7/site-packages/tensorflow_core/python/eager/def_function.py\u001b[0m in \u001b[0;36m__call__\u001b[0;34m(self, *args, **kwds)\u001b[0m\n\u001b[1;32m    566\u001b[0m         \u001b[0mxla_context\u001b[0m\u001b[0;34m.\u001b[0m\u001b[0mExit\u001b[0m\u001b[0;34m(\u001b[0m\u001b[0;34m)\u001b[0m\u001b[0;34m\u001b[0m\u001b[0;34m\u001b[0m\u001b[0m\n\u001b[1;32m    567\u001b[0m     \u001b[0;32melse\u001b[0m\u001b[0;34m:\u001b[0m\u001b[0;34m\u001b[0m\u001b[0;34m\u001b[0m\u001b[0m\n\u001b[0;32m--> 568\u001b[0;31m       \u001b[0mresult\u001b[0m \u001b[0;34m=\u001b[0m \u001b[0mself\u001b[0m\u001b[0;34m.\u001b[0m\u001b[0m_call\u001b[0m\u001b[0;34m(\u001b[0m\u001b[0;34m*\u001b[0m\u001b[0margs\u001b[0m\u001b[0;34m,\u001b[0m \u001b[0;34m**\u001b[0m\u001b[0mkwds\u001b[0m\u001b[0;34m)\u001b[0m\u001b[0;34m\u001b[0m\u001b[0;34m\u001b[0m\u001b[0m\n\u001b[0m\u001b[1;32m    569\u001b[0m \u001b[0;34m\u001b[0m\u001b[0m\n\u001b[1;32m    570\u001b[0m     \u001b[0;32mif\u001b[0m \u001b[0mtracing_count\u001b[0m \u001b[0;34m==\u001b[0m \u001b[0mself\u001b[0m\u001b[0;34m.\u001b[0m\u001b[0m_get_tracing_count\u001b[0m\u001b[0;34m(\u001b[0m\u001b[0;34m)\u001b[0m\u001b[0;34m:\u001b[0m\u001b[0;34m\u001b[0m\u001b[0;34m\u001b[0m\u001b[0m\n",
      "\u001b[0;32m~/miniconda3/envs/py3.7/lib/python3.7/site-packages/tensorflow_core/python/eager/def_function.py\u001b[0m in \u001b[0;36m_call\u001b[0;34m(self, *args, **kwds)\u001b[0m\n\u001b[1;32m    597\u001b[0m       \u001b[0;31m# In this case we have created variables on the first call, so we run the\u001b[0m\u001b[0;34m\u001b[0m\u001b[0;34m\u001b[0m\u001b[0;34m\u001b[0m\u001b[0m\n\u001b[1;32m    598\u001b[0m       \u001b[0;31m# defunned version which is guaranteed to never create variables.\u001b[0m\u001b[0;34m\u001b[0m\u001b[0;34m\u001b[0m\u001b[0;34m\u001b[0m\u001b[0m\n\u001b[0;32m--> 599\u001b[0;31m       \u001b[0;32mreturn\u001b[0m \u001b[0mself\u001b[0m\u001b[0;34m.\u001b[0m\u001b[0m_stateless_fn\u001b[0m\u001b[0;34m(\u001b[0m\u001b[0;34m*\u001b[0m\u001b[0margs\u001b[0m\u001b[0;34m,\u001b[0m \u001b[0;34m**\u001b[0m\u001b[0mkwds\u001b[0m\u001b[0;34m)\u001b[0m  \u001b[0;31m# pylint: disable=not-callable\u001b[0m\u001b[0;34m\u001b[0m\u001b[0;34m\u001b[0m\u001b[0m\n\u001b[0m\u001b[1;32m    600\u001b[0m     \u001b[0;32melif\u001b[0m \u001b[0mself\u001b[0m\u001b[0;34m.\u001b[0m\u001b[0m_stateful_fn\u001b[0m \u001b[0;32mis\u001b[0m \u001b[0;32mnot\u001b[0m \u001b[0;32mNone\u001b[0m\u001b[0;34m:\u001b[0m\u001b[0;34m\u001b[0m\u001b[0;34m\u001b[0m\u001b[0m\n\u001b[1;32m    601\u001b[0m       \u001b[0;31m# Release the lock early so that multiple threads can perform the call\u001b[0m\u001b[0;34m\u001b[0m\u001b[0;34m\u001b[0m\u001b[0;34m\u001b[0m\u001b[0m\n",
      "\u001b[0;32m~/miniconda3/envs/py3.7/lib/python3.7/site-packages/tensorflow_core/python/eager/function.py\u001b[0m in \u001b[0;36m__call__\u001b[0;34m(self, *args, **kwargs)\u001b[0m\n\u001b[1;32m   2361\u001b[0m     \u001b[0;32mwith\u001b[0m \u001b[0mself\u001b[0m\u001b[0;34m.\u001b[0m\u001b[0m_lock\u001b[0m\u001b[0;34m:\u001b[0m\u001b[0;34m\u001b[0m\u001b[0;34m\u001b[0m\u001b[0m\n\u001b[1;32m   2362\u001b[0m       \u001b[0mgraph_function\u001b[0m\u001b[0;34m,\u001b[0m \u001b[0margs\u001b[0m\u001b[0;34m,\u001b[0m \u001b[0mkwargs\u001b[0m \u001b[0;34m=\u001b[0m \u001b[0mself\u001b[0m\u001b[0;34m.\u001b[0m\u001b[0m_maybe_define_function\u001b[0m\u001b[0;34m(\u001b[0m\u001b[0margs\u001b[0m\u001b[0;34m,\u001b[0m \u001b[0mkwargs\u001b[0m\u001b[0;34m)\u001b[0m\u001b[0;34m\u001b[0m\u001b[0;34m\u001b[0m\u001b[0m\n\u001b[0;32m-> 2363\u001b[0;31m     \u001b[0;32mreturn\u001b[0m \u001b[0mgraph_function\u001b[0m\u001b[0;34m.\u001b[0m\u001b[0m_filtered_call\u001b[0m\u001b[0;34m(\u001b[0m\u001b[0margs\u001b[0m\u001b[0;34m,\u001b[0m \u001b[0mkwargs\u001b[0m\u001b[0;34m)\u001b[0m  \u001b[0;31m# pylint: disable=protected-access\u001b[0m\u001b[0;34m\u001b[0m\u001b[0;34m\u001b[0m\u001b[0m\n\u001b[0m\u001b[1;32m   2364\u001b[0m \u001b[0;34m\u001b[0m\u001b[0m\n\u001b[1;32m   2365\u001b[0m   \u001b[0;34m@\u001b[0m\u001b[0mproperty\u001b[0m\u001b[0;34m\u001b[0m\u001b[0;34m\u001b[0m\u001b[0m\n",
      "\u001b[0;32m~/miniconda3/envs/py3.7/lib/python3.7/site-packages/tensorflow_core/python/eager/function.py\u001b[0m in \u001b[0;36m_filtered_call\u001b[0;34m(self, args, kwargs)\u001b[0m\n\u001b[1;32m   1609\u001b[0m          if isinstance(t, (ops.Tensor,\n\u001b[1;32m   1610\u001b[0m                            resource_variable_ops.BaseResourceVariable))),\n\u001b[0;32m-> 1611\u001b[0;31m         self.captured_inputs)\n\u001b[0m\u001b[1;32m   1612\u001b[0m \u001b[0;34m\u001b[0m\u001b[0m\n\u001b[1;32m   1613\u001b[0m   \u001b[0;32mdef\u001b[0m \u001b[0m_call_flat\u001b[0m\u001b[0;34m(\u001b[0m\u001b[0mself\u001b[0m\u001b[0;34m,\u001b[0m \u001b[0margs\u001b[0m\u001b[0;34m,\u001b[0m \u001b[0mcaptured_inputs\u001b[0m\u001b[0;34m,\u001b[0m \u001b[0mcancellation_manager\u001b[0m\u001b[0;34m=\u001b[0m\u001b[0;32mNone\u001b[0m\u001b[0;34m)\u001b[0m\u001b[0;34m:\u001b[0m\u001b[0;34m\u001b[0m\u001b[0;34m\u001b[0m\u001b[0m\n",
      "\u001b[0;32m~/miniconda3/envs/py3.7/lib/python3.7/site-packages/tensorflow_core/python/eager/function.py\u001b[0m in \u001b[0;36m_call_flat\u001b[0;34m(self, args, captured_inputs, cancellation_manager)\u001b[0m\n\u001b[1;32m   1690\u001b[0m       \u001b[0;31m# No tape is watching; skip to running the function.\u001b[0m\u001b[0;34m\u001b[0m\u001b[0;34m\u001b[0m\u001b[0;34m\u001b[0m\u001b[0m\n\u001b[1;32m   1691\u001b[0m       return self._build_call_outputs(self._inference_function.call(\n\u001b[0;32m-> 1692\u001b[0;31m           ctx, args, cancellation_manager=cancellation_manager))\n\u001b[0m\u001b[1;32m   1693\u001b[0m     forward_backward = self._select_forward_and_backward_functions(\n\u001b[1;32m   1694\u001b[0m         \u001b[0margs\u001b[0m\u001b[0;34m,\u001b[0m\u001b[0;34m\u001b[0m\u001b[0;34m\u001b[0m\u001b[0m\n",
      "\u001b[0;32m~/miniconda3/envs/py3.7/lib/python3.7/site-packages/tensorflow_core/python/eager/function.py\u001b[0m in \u001b[0;36mcall\u001b[0;34m(self, ctx, args, cancellation_manager)\u001b[0m\n\u001b[1;32m    543\u001b[0m               \u001b[0minputs\u001b[0m\u001b[0;34m=\u001b[0m\u001b[0margs\u001b[0m\u001b[0;34m,\u001b[0m\u001b[0;34m\u001b[0m\u001b[0;34m\u001b[0m\u001b[0m\n\u001b[1;32m    544\u001b[0m               \u001b[0mattrs\u001b[0m\u001b[0;34m=\u001b[0m\u001b[0;34m(\u001b[0m\u001b[0;34m\"executor_type\"\u001b[0m\u001b[0;34m,\u001b[0m \u001b[0mexecutor_type\u001b[0m\u001b[0;34m,\u001b[0m \u001b[0;34m\"config_proto\"\u001b[0m\u001b[0;34m,\u001b[0m \u001b[0mconfig\u001b[0m\u001b[0;34m)\u001b[0m\u001b[0;34m,\u001b[0m\u001b[0;34m\u001b[0m\u001b[0;34m\u001b[0m\u001b[0m\n\u001b[0;32m--> 545\u001b[0;31m               ctx=ctx)\n\u001b[0m\u001b[1;32m    546\u001b[0m         \u001b[0;32melse\u001b[0m\u001b[0;34m:\u001b[0m\u001b[0;34m\u001b[0m\u001b[0;34m\u001b[0m\u001b[0m\n\u001b[1;32m    547\u001b[0m           outputs = execute.execute_with_cancellation(\n",
      "\u001b[0;32m~/miniconda3/envs/py3.7/lib/python3.7/site-packages/tensorflow_core/python/eager/execute.py\u001b[0m in \u001b[0;36mquick_execute\u001b[0;34m(op_name, num_outputs, inputs, attrs, ctx, name)\u001b[0m\n\u001b[1;32m     59\u001b[0m     tensors = pywrap_tensorflow.TFE_Py_Execute(ctx._handle, device_name,\n\u001b[1;32m     60\u001b[0m                                                \u001b[0mop_name\u001b[0m\u001b[0;34m,\u001b[0m \u001b[0minputs\u001b[0m\u001b[0;34m,\u001b[0m \u001b[0mattrs\u001b[0m\u001b[0;34m,\u001b[0m\u001b[0;34m\u001b[0m\u001b[0;34m\u001b[0m\u001b[0m\n\u001b[0;32m---> 61\u001b[0;31m                                                num_outputs)\n\u001b[0m\u001b[1;32m     62\u001b[0m   \u001b[0;32mexcept\u001b[0m \u001b[0mcore\u001b[0m\u001b[0;34m.\u001b[0m\u001b[0m_NotOkStatusException\u001b[0m \u001b[0;32mas\u001b[0m \u001b[0me\u001b[0m\u001b[0;34m:\u001b[0m\u001b[0;34m\u001b[0m\u001b[0;34m\u001b[0m\u001b[0m\n\u001b[1;32m     63\u001b[0m     \u001b[0;32mif\u001b[0m \u001b[0mname\u001b[0m \u001b[0;32mis\u001b[0m \u001b[0;32mnot\u001b[0m \u001b[0;32mNone\u001b[0m\u001b[0;34m:\u001b[0m\u001b[0;34m\u001b[0m\u001b[0;34m\u001b[0m\u001b[0m\n",
      "\u001b[0;31mKeyboardInterrupt\u001b[0m: "
     ]
    }
   ],
   "source": [
    "try:\n",
    "    train_discriminator(epochs=30, n_real=x.shape[0], n_fake=0)\n",
    "finally:\n",
    "    gc.collect()"
   ]
  },
  {
   "cell_type": "markdown",
   "metadata": {},
   "source": [
    "# Train generator"
   ]
  },
  {
   "cell_type": "code",
   "execution_count": 38,
   "metadata": {},
   "outputs": [],
   "source": [
    "def train_generator(\n",
    "    epochs: int,\n",
    "    n_fake = n_random_inputs_per_training,\n",
    "):\n",
    "    generator_x, generator_y = make_generator_input(n_fake)\n",
    "    \n",
    "    # stupid renaming because of keras bullshit.\n",
    "    make_name = lambda i: \"discriminator\" if i==0 else f\"discriminator_{i}\"\n",
    "    generator_y_gen = {make_name(i): generator_y[col] for i, col in enumerate(columns_as_input)}\n",
    "    \n",
    "    generator_trainer.fit(generator_x, generator_y_gen, epochs=epochs, batch_size=batch_size)"
   ]
  },
  {
   "cell_type": "code",
   "execution_count": null,
   "metadata": {
    "scrolled": true
   },
   "outputs": [
    {
     "name": "stdout",
     "output_type": "stream",
     "text": [
      "0 / 200\n",
      "Train on 4800 samples\n",
      "Epoch 1/2\n",
      "4800/4800 [==============================] - 8s 2ms/sample - loss: 0.4015 - rarity_loss: 0.2108 - type_loss: 0.1907 - rarity_categorical_accuracy: 0.9321 - type_categorical_accuracy: 0.9388\n",
      "Epoch 2/2\n",
      "4800/4800 [==============================] - 8s 2ms/sample - loss: 0.2202 - rarity_loss: 0.1314 - type_loss: 0.0888 - rarity_categorical_accuracy: 0.9560 - type_categorical_accuracy: 0.9715\n",
      "Train on 800 samples\n",
      "800/800 [==============================] - 3s 4ms/sample - loss: 6.2600 - discriminator_loss: 2.8485 - discriminator_1_loss: 3.4115 - discriminator_categorical_accuracy: 0.4688 - discriminator_1_categorical_accuracy: 0.3850\n",
      "1 / 200\n",
      "Train on 4800 samples\n",
      "Epoch 1/2\n",
      "4800/4800 [==============================] - 8s 2ms/sample - loss: 0.4522 - rarity_loss: 0.2451 - type_loss: 0.2070 - rarity_categorical_accuracy: 0.9217 - type_categorical_accuracy: 0.9375\n",
      "Epoch 2/2\n",
      "4800/4800 [==============================] - 8s 2ms/sample - loss: 0.2460 - rarity_loss: 0.1402 - type_loss: 0.1058 - rarity_categorical_accuracy: 0.9538 - type_categorical_accuracy: 0.9669\n",
      "Train on 800 samples\n",
      "800/800 [==============================] - 3s 4ms/sample - loss: 6.0925 - discriminator_loss: 2.9198 - discriminator_1_loss: 3.1728 - discriminator_categorical_accuracy: 0.4275 - discriminator_1_categorical_accuracy: 0.3925\n",
      "2 / 200\n",
      "Train on 4800 samples\n",
      "Epoch 1/2\n",
      "4800/4800 [==============================] - 8s 2ms/sample - loss: 0.4676 - rarity_loss: 0.2417 - type_loss: 0.2259 - rarity_categorical_accuracy: 0.9221 - type_categorical_accuracy: 0.9294\n",
      "Epoch 2/2\n",
      "4800/4800 [==============================] - 8s 2ms/sample - loss: 0.2311 - rarity_loss: 0.1302 - type_loss: 0.1009 - rarity_categorical_accuracy: 0.9540 - type_categorical_accuracy: 0.9665\n",
      "Train on 800 samples\n",
      "800/800 [==============================] - 3s 4ms/sample - loss: 5.4688 - discriminator_loss: 2.4482 - discriminator_1_loss: 3.0206 - discriminator_categorical_accuracy: 0.4863 - discriminator_1_categorical_accuracy: 0.4325\n",
      "3 / 200\n",
      "Train on 4800 samples\n",
      "Epoch 1/2\n",
      "4800/4800 [==============================] - 8s 2ms/sample - loss: 0.3820 - rarity_loss: 0.2086 - type_loss: 0.1735 - rarity_categorical_accuracy: 0.9292 - type_categorical_accuracy: 0.9450\n",
      "Epoch 2/2\n",
      "4800/4800 [==============================] - 8s 2ms/sample - loss: 0.2288 - rarity_loss: 0.1436 - type_loss: 0.0852 - rarity_categorical_accuracy: 0.9533 - type_categorical_accuracy: 0.9733\n",
      "Train on 800 samples\n",
      "800/800 [==============================] - 3s 4ms/sample - loss: 5.6736 - discriminator_loss: 2.6538 - discriminator_1_loss: 3.0197 - discriminator_categorical_accuracy: 0.4750 - discriminator_1_categorical_accuracy: 0.3825\n",
      "4 / 200\n",
      "Train on 4800 samples\n",
      "Epoch 1/2\n",
      "4800/4800 [==============================] - 9s 2ms/sample - loss: 0.4545 - rarity_loss: 0.2479 - type_loss: 0.2067 - rarity_categorical_accuracy: 0.9204 - type_categorical_accuracy: 0.9344\n",
      "Epoch 2/2\n",
      " 300/4800 [>.............................] - ETA: 7s - loss: 0.2704 - rarity_loss: 0.1933 - type_loss: 0.0771 - rarity_categorical_accuracy: 0.9467 - type_categorical_accuracy: 0.9733"
     ]
    }
   ],
   "source": [
    "gc.collect()\n",
    "try:\n",
    "    for i in range(n_epochs):\n",
    "        print(f\"{i} / {n_epochs}\")\n",
    "\n",
    "        # discriminator\n",
    "        train_discriminator(2, n_fake=n_random_inputs_per_training, n_real=n_real_per_training)\n",
    "        gc.collect()\n",
    "        \n",
    "        # generator\n",
    "        train_generator(1, n_fake=n_random_inputs_per_training)\n",
    "        gc.collect()\n",
    "finally:\n",
    "    gc.collect()"
   ]
  },
  {
   "cell_type": "code",
   "execution_count": 176,
   "metadata": {
    "scrolled": false
   },
   "outputs": [
    {
     "data": {
      "text/plain": [
       "20"
      ]
     },
     "execution_count": 176,
     "metadata": {},
     "output_type": "execute_result"
    }
   ],
   "source": [
    "gc.collect()"
   ]
  },
  {
   "cell_type": "markdown",
   "metadata": {},
   "source": [
    "# Test a couple of records"
   ]
  },
  {
   "cell_type": "code",
   "execution_count": 189,
   "metadata": {
    "scrolled": false
   },
   "outputs": [
    {
     "data": {
      "image/png": "[encoded data removed]",
      "text/plain": [
       "<Figure size 432x288 with 1 Axes>"
      ]
     },
     "metadata": {
      "needs_background": "light"
     },
     "output_type": "display_data"
    },
    {
     "data": {
      "image/png": "[encoded data removed]",
      "text/plain": [
       "<Figure size 432x288 with 1 Axes>"
      ]
     },
     "metadata": {
      "needs_background": "light"
     },
     "output_type": "display_data"
    },
    {
     "data": {
      "image/png": "[encoded data removed]",
      "text/plain": [
       "<Figure size 432x288 with 1 Axes>"
      ]
     },
     "metadata": {
      "needs_background": "light"
     },
     "output_type": "display_data"
    }
   ],
   "source": [
    "def plot_images_and_classes(n):\n",
    "    inputs, y = make_generator_input(n)\n",
    "    predictions = generator.predict(inputs)\n",
    "    labels = {k: convert_target_matrix_to_label(y, k) for k in y}\n",
    "    \n",
    "    for i in range(n):\n",
    "        img = predictions[i]        \n",
    "        plt.imshow(img)\n",
    "        plt.title(f\"{labels['type'][i]} - {labels['rarity'][i]}\")\n",
    "        plt.show()\n",
    "\n",
    "plot_images_and_classes(3)"
   ]
  },
  {
   "cell_type": "code",
   "execution_count": 162,
   "metadata": {},
   "outputs": [
    {
     "name": "stdout",
     "output_type": "stream",
     "text": [
      "Train on 2000 samples\n",
      "Epoch 1/10\n",
      "2000/2000 [==============================] - 8s 4ms/sample - loss: 3.3867 - discriminator_loss: 1.1152 - discriminator_1_loss: 2.2715 - discriminator_categorical_accuracy: 0.5790 - discriminator_1_categorical_accuracy: 0.4590\n",
      "Epoch 2/10\n",
      "2000/2000 [==============================] - 8s 4ms/sample - loss: 3.0978 - discriminator_loss: 1.0344 - discriminator_1_loss: 2.0634 - discriminator_categorical_accuracy: 0.6075 - discriminator_1_categorical_accuracy: 0.5100\n",
      "Epoch 3/10\n",
      "2000/2000 [==============================] - 8s 4ms/sample - loss: 2.9603 - discriminator_loss: 1.0248 - discriminator_1_loss: 1.9356 - discriminator_categorical_accuracy: 0.6010 - discriminator_1_categorical_accuracy: 0.5170\n",
      "Epoch 4/10\n",
      "2000/2000 [==============================] - 8s 4ms/sample - loss: 2.8707 - discriminator_loss: 0.9889 - discriminator_1_loss: 1.8818 - discriminator_categorical_accuracy: 0.6285 - discriminator_1_categorical_accuracy: 0.5330\n",
      "Epoch 5/10\n",
      "2000/2000 [==============================] - 8s 4ms/sample - loss: 2.7520 - discriminator_loss: 0.9786 - discriminator_1_loss: 1.7734 - discriminator_categorical_accuracy: 0.6075 - discriminator_1_categorical_accuracy: 0.5545\n",
      "Epoch 6/10\n",
      "2000/2000 [==============================] - 8s 4ms/sample - loss: 2.7767 - discriminator_loss: 0.9798 - discriminator_1_loss: 1.7969 - discriminator_categorical_accuracy: 0.6155 - discriminator_1_categorical_accuracy: 0.5370\n",
      "Epoch 7/10\n",
      "2000/2000 [==============================] - 8s 4ms/sample - loss: 2.6557 - discriminator_loss: 0.9471 - discriminator_1_loss: 1.7086 - discriminator_categorical_accuracy: 0.6290 - discriminator_1_categorical_accuracy: 0.5525\n",
      "Epoch 8/10\n",
      "2000/2000 [==============================] - 8s 4ms/sample - loss: 2.6686 - discriminator_loss: 0.9452 - discriminator_1_loss: 1.7234 - discriminator_categorical_accuracy: 0.6275 - discriminator_1_categorical_accuracy: 0.5435\n",
      "Epoch 9/10\n",
      "2000/2000 [==============================] - 8s 4ms/sample - loss: 2.6169 - discriminator_loss: 0.9467 - discriminator_1_loss: 1.6702 - discriminator_categorical_accuracy: 0.6200 - discriminator_1_categorical_accuracy: 0.5595\n",
      "Epoch 10/10\n",
      "2000/2000 [==============================] - 8s 4ms/sample - loss: 2.7526 - discriminator_loss: 0.9618 - discriminator_1_loss: 1.7908 - discriminator_categorical_accuracy: 0.6080 - discriminator_1_categorical_accuracy: 0.5265\n"
     ]
    }
   ],
   "source": [
    "try:\n",
    "    train_generator(10, 2000)\n",
    "finally:\n",
    "    gc.collect()"
   ]
  },
  {
   "cell_type": "code",
   "execution_count": null,
   "metadata": {},
   "outputs": [],
   "source": []
  }
 ],
 "metadata": {
  "kernelspec": {
   "display_name": "py3.7",
   "language": "python",
   "name": "py3.7"
  },
  "language_info": {
   "codemirror_mode": {
    "name": "ipython",
    "version": 3
   },
   "file_extension": ".py",
   "mimetype": "text/x-python",
   "name": "python",
   "nbconvert_exporter": "python",
   "pygments_lexer": "ipython3",
   "version": "3.7.4"
  }
 },
 "nbformat": 4,
 "nbformat_minor": 2
}
